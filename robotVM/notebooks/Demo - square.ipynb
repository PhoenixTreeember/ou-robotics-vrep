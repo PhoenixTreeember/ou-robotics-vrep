{
 "cells": [
  {
   "cell_type": "markdown",
   "metadata": {},
   "source": [
    "# Traverse a Square - Part 1\n",
    "\n",
    "In this example, you will explore various strategies for programming the robot to traverse a regular two dimensional shape, such as a square.\n",
    "\n",
    "These strategies will address two different sorts of concern:\n",
    "\n",
    "- how to use programming constructs to create programmes that are concise and easy to maintain;\n",
    "- how to control a robot reliably.\n",
    "\n"
   ]
  },
  {
   "cell_type": "code",
   "execution_count": 1,
   "metadata": {},
   "outputs": [],
   "source": [
    "%run 'Set-up.ipynb'\n",
    "%run 'Loading scenes.ipynb'"
   ]
  },
  {
   "cell_type": "code",
   "execution_count": 4,
   "metadata": {},
   "outputs": [
    {
     "name": "stdout",
     "output_type": "stream",
     "text": [
      "Loading class: PioneerP3DX_base\n",
      "This is a base class for the PioneerP3DX_base model\n",
      "\n",
      "Loading class: PioneerP3DX\n",
      "Methods available in PioneerP3DX:\n",
      "\tget_orientation\n",
      "\tget_orientation_degrees\n",
      "\tgetvalleft\n",
      "\tgetvalright\n",
      "\tmove_backward\n",
      "\tmove_forward\n",
      "\trotate_left\n",
      "\trotate_right\n",
      "\tset_two_motor\n",
      "\tultrasonic_left_length\n",
      "\tultrasonic_right_length\n",
      "\n",
      "Loading class: PioneerP3DXL\n",
      "Methods available in PioneerP3DXL:\n",
      "\tcolor_left\n",
      "\tcolor_right\n",
      "\tget_orientation\n",
      "\tmove_backward\n",
      "\tmove_forward\n",
      "\trotate_left\n",
      "\trotate_right\n",
      "\tset_two_motor\n",
      "\tultrasonic_left_length\n",
      "\tultrasonic_right_length\n",
      "\n",
      "The following text widgets are available for display: sensorText1, sensorText2\n"
     ]
    }
   ],
   "source": [
    "%run 'vrep_models/PioneerP3DX.ipynb'"
   ]
  },
  {
   "cell_type": "markdown",
   "metadata": {},
   "source": [
    "## Driving the Robot - Forwards, Backwards, Turns\n",
    "\n",
    "The Pioneer P3-DX robot is a general purpose, two wheeled research robot.\n",
    "\n",
    "<img alt=\"\" src=\"../images/V-REP_PRO_EDU_-pioneer.png\" />\n",
    "\n",
    "The simulator provides access to two separate motors, defined as rotational joints with velocity control - which means we can set the speed (and direction of rotation) of them.\n",
    "\n",
    "We have defined a Python class, `PioneerP3DX`, that contains methods that allow you to drive the robot forwards and backwards, either at a default speed (*2.0*) or at a specified speed. \n",
    "\n",
    "- *move forwards*:  `.move_forward()` or `.move_forward(SPEED)`\n",
    "- *move backwards*: `.move_backward()` or `.move_backward(SPEED)`\n",
    "\n",
    "Remember, if you omit a `SPEED` value, the default value *2.0* is used. If you use a negative value, the direction of travel is the opposite to the direction given as the method name."
   ]
  },
  {
   "cell_type": "markdown",
   "metadata": {},
   "source": [
    "Run the following code cell and watch the behaviour of the robot."
   ]
  },
  {
   "cell_type": "code",
   "execution_count": 8,
   "metadata": {},
   "outputs": [],
   "source": [
    "%%vrepsim '../scenes/OU_Pioneer.ttt' PioneerP3DX\n",
    "\n",
    "# Use the time library to set a wait duration\n",
    "import time\n",
    "\n",
    "#Tell the robot to move forward by setting both motors to speed 1\n",
    "robot.move_forward(1)\n",
    "\n",
    "#Wait for two seconds\n",
    "time.sleep(2)\n",
    "\n",
    "#At the end of the programme the simulation stops\n",
    "#The robot returns to its original location"
   ]
  },
  {
   "cell_type": "markdown",
   "metadata": {},
   "source": [
    "In the code cell below, see if you can write a programme that drives the robot forwards at speed 0.5 for 3 seconds."
   ]
  },
  {
   "cell_type": "code",
   "execution_count": null,
   "metadata": {},
   "outputs": [],
   "source": [
    "%%vrepsim '../scenes/OU_Pioneer.ttt' PioneerP3DX\n",
    "\n",
    "# Use the time library to set a wait duration\n",
    "import time\n",
    "\n",
    "#YOUR CODE HERE"
   ]
  },
  {
   "cell_type": "markdown",
   "metadata": {},
   "source": [
    "How would you get the robot to drive forwards for 2 seconds and then backwards for 3 seconds? Modify your programme in the cell above and try it out.\n",
    "\n",
    "Can you get the robot to drive forwards and then backwards using just the `.move_forwards()` method?\n",
    "\n",
    "*HINT: setting the speed to a negative value reverses the direction of travel.*"
   ]
  },
  {
   "cell_type": "markdown",
   "metadata": {},
   "source": [
    "The forwards and backwards commands are actually implemented by calling another method that sets the speed of each motor separately:\n",
    "\n",
    "`.set_two_motor(SPEED_LEFT_MOTOR, SPEED_RIGHT_MOTOR)`\n",
    "\n",
    "In particular, the `.move_forward(SPEED)` command calls `.set_two_motor(SPEED, SPEED)` and the `.move_backward(SPEED)` command calls `.set_two_motor(-SPEED, -SPEED)`\n",
    "\n",
    "### Turning on the Spot\n",
    "To turn on the spot in a counter-clockwise direction, that is, towards the left, we can set one motor to drive forwards at one speed and the other to drive backwards at the same speed. For example:\n",
    "\n",
    "- `.rotate_left(SPEED)` calls `.set_two_motor(-SPEED, SPEED)`\n",
    "\n",
    "As before, if you omit the `SPEED` parameter, a default value (again set to *2.0*) is used.\n",
    "\n",
    "How do you think the `.rotate_right()` method might be defined?"
   ]
  },
  {
   "cell_type": "markdown",
   "metadata": {},
   "source": [
    "Use the following code cell to write a programme to turn the Pioneer robot slowly on the spot in one direction for 2 seconds, and then faster on the spot and in the opposite direction for a further three seconds.\n",
    "\n",
    "Also explore what happens if you call the `.set_two_motor()` method using *different* speeds for the left and right motors, in either the same, or different, directions."
   ]
  },
  {
   "cell_type": "code",
   "execution_count": null,
   "metadata": {},
   "outputs": [],
   "source": [
    "%%vrepsim '../scenes/OU_Pioneer.ttt' PioneerP3DX\n",
    "\n",
    "# Use the time library to set a wait duration\n",
    "import time\n",
    "\n",
    "#YOUR CODE HERE\n",
    "\n",
    "#FOR EXAMPLE, TO DRIVE CLOCKWISE, USE: robot.rotate_right()\n",
    "#DON'T FORGET TO USE time.wait(TIME_IN_SECONDS) to give the robot time to turn"
   ]
  },
  {
   "cell_type": "code",
   "execution_count": 11,
   "metadata": {},
   "outputs": [
    {
     "name": "stdout",
     "output_type": "stream",
     "text": [
      "Adding_Lines_to_a_Scene.md         Pen_Down_Robot_Trajectory_Trace.md\r\n",
      "Adding_Odometry.md                 Working_With_VREP_Graph_Object.md\r\n",
      "Environment_Camera_Views.md        Working_With_a_New_Model.md\r\n",
      "Floor_resizing.md\r\n"
     ]
    }
   ],
   "source": [
    "!ls ../howtos"
   ]
  },
  {
   "cell_type": "markdown",
   "metadata": {},
   "source": [
    "## A Simple Square\n",
    "\n",
    "So now you should be able to drive your robot forward, and backwards, and make it turn on the spot in either direction.\n",
    "\n",
    "Do you think you could get it to describe a square?\n",
    "\n",
    "In the code cell below, see if you can write a programme to drive the robot forward a short way, turn through ninety degrees, and then move forwards a short distance again.\n",
    "\n",
    "You may find it takes a few attempts to tune the turn speed and time settings correctly so that the robot turns the correct amount.\n",
    "\n",
    "To see how right angled the turn actually was, you may find it useful to view the robot from above - change the camera view from the top toolbar.\n",
    "\n",
    "Don't spend too long on this - you may find that getting *exactly* 90 degrees *every time* is virtually impossible.\n",
    "\n",
    "To see the trace clearly, you may want to pick up the robot and move it out of the way once the programme has finished. Do this by:\n",
    "\n",
    "- select the Pioneer_3dx robot object in the Scene Hierarchy;\n",
    "- select the Object / Item Shift option in the top toolbar (the cube with four arrows coming out of it);\n",
    "- drag the robot out of the way.\n",
    "\n",
    "### Additional resources:\n",
    "- [how to change the simulator camera view](../howtos/Environment_Camera_Views.md)."
   ]
  },
  {
   "cell_type": "code",
   "execution_count": null,
   "metadata": {},
   "outputs": [],
   "source": [
    "%%vrepsim '../scenes/OU_Pioneer.ttt' PioneerP3DX\n",
    "import time\n",
    "\n",
    "#try to get the robot to draw an L shape: forward, right angle turn, forward\n",
    "\n"
   ]
  },
  {
   "cell_type": "markdown",
   "metadata": {},
   "source": [
    "Once you have have found some values that allow your robot to turn through ninety degrees or so, see if you can get your robot to draw out a square.\n",
    "\n",
    "Again, don't spend too long on this. An approxi-square that looks like a bent coathanger may be the best you can get."
   ]
  },
  {
   "cell_type": "code",
   "execution_count": 12,
   "metadata": {},
   "outputs": [],
   "source": [
    "%%vrepsim '../scenes/OU_Pioneer.ttt' PioneerP3DX\n",
    "import time\n",
    "\n",
    "#Program to draw a square\n"
   ]
  },
  {
   "cell_type": "markdown",
   "metadata": {},
   "source": [
    "So how did you do?\n",
    "\n",
    "And what does your programme look like?\n",
    "\n",
    "I'm going to hazard a few guesses.\n",
    "\n",
    "First, calling the trace a square may have been a little hopeful.\n",
    "\n",
    "Second, the angle turned at each corner may have been different even using the same values, or th robot may have turned different amounts with the same settings on different runs.\n",
    "\n",
    "Third, your programme was possibly quite long and filled with lots of repeating statements and numbers.\n",
    "\n",
    "So what happened?"
   ]
  },
  {
   "cell_type": "markdown",
   "metadata": {},
   "source": [
    "### Rubbish Square\n",
    "\n",
    "Using time to set the turn angle and side length is hazardous. The simulator is doing lots of calculations. Depending on what other activities are going on on your computer, the amount of processor time allocated to the simulator each second may differ from second to second.\n",
    "\n",
    "![Rubbish square - topview](../images/V-REP_PRO_EDU_-_rubbish_square.png)\n",
    "\n",
    "Different number of calculations means different number of (calculated) simulator steps, which in turn means different result in the simulated view."
   ]
  },
  {
   "cell_type": "markdown",
   "metadata": {},
   "source": [
    "### Long Programme With Lots of Steps and Repeated Numbers\n",
    "\n",
    "You may have found your programme looked something like the one shown below (hopefully *with* some comments...):"
   ]
  },
  {
   "cell_type": "code",
   "execution_count": 15,
   "metadata": {},
   "outputs": [],
   "source": [
    "%%vrepsim '../scenes/Pioneer_OU.ttt' PioneerP3DX\n",
    "import time\n",
    "\n",
    "#side 1\n",
    "robot.move_forward()\n",
    "time.sleep(1)\n",
    "#turn 1\n",
    "robot.rotate_left(1.8)\n",
    "time.sleep(0.45)\n",
    "#side 2\n",
    "robot.move_forward()\n",
    "time.sleep(1)\n",
    "#turn 2\n",
    "robot.rotate_left(1.8)\n",
    "time.sleep(0.45)\n",
    "#side 3\n",
    "robot.move_forward()\n",
    "time.sleep(1)\n",
    "#turn 3\n",
    "robot.rotate_left(1.8)\n",
    "time.sleep(0.45)\n",
    "#side 4\n",
    "robot.move_forward()\n",
    "time.sleep(1)"
   ]
  },
  {
   "cell_type": "markdown",
   "metadata": {},
   "source": [
    "This is a bit painful for a couple of reasons.\n",
    "\n",
    "Firstly, if I want to change the time value used for each side, for example, I need to change the number in several places. I also need to change it *inside* the program.\n",
    "\n",
    "Secondly, there is lots of repetition. For example, the following block repeats, apart from the numbers in the comments:\n",
    "\n",
    "```\n",
    "#side ...\n",
    "robot.move_forward()\n",
    "time.sleep(1)\n",
    "#turn ...\n",
    "robot.rotate_left(1.8)\n",
    "time.sleep(0.45)\n",
    "```"
   ]
  },
  {
   "cell_type": "markdown",
   "metadata": {},
   "source": [
    "There are a couple of programming things we can do here to make life easier:\n",
    "\n",
    "- use a *variable* we can reference by name, and set just once, to define each parameter value;\n",
    "- use a *loop* to run the same block of code a particular number of times."
   ]
  },
  {
   "cell_type": "markdown",
   "metadata": {},
   "source": [
    "### Variables"
   ]
  },
  {
   "cell_type": "markdown",
   "metadata": {},
   "source": [
    "### Loops"
   ]
  },
  {
   "cell_type": "markdown",
   "metadata": {},
   "source": [
    "## Part 2 notebook - square with odometry\n",
    "\n",
    "two things to track - orientation and distance turned by each wheel for side transit"
   ]
  },
  {
   "cell_type": "code",
   "execution_count": null,
   "metadata": {},
   "outputs": [],
   "source": [
    "%%vrepsim '../scenes/OU_Pioneer.ttt' PioneerP3DX\n",
    "\n",
    "# Use the time library to set a wait duration\n",
    "import time\n",
    "\n",
    "#Tell the robot to move forward by setting both motors to speed 1\n",
    "robot.move_forward(1)\n",
    "print(robot.getvalleft(), robot.getvalright())\n",
    "#Wait for two seconds\n",
    "time.sleep(2)\n",
    "print(robot.getvalleft(), robot.getvalright())\n",
    "robot.rotate_left()\n",
    "time.sleep(2)\n",
    "print(robot.getvalleft(), robot.getvalright())\n",
    "#At the end of the programme the simulation stops\n",
    "#The robot returns to its original location"
   ]
  },
  {
   "cell_type": "code",
   "execution_count": null,
   "metadata": {},
   "outputs": [],
   "source": [
    "%%vrepsim '../scenes/OU_Pioneer.ttt' PioneerP3DX\n",
    "\n",
    "\n",
    "get_orientation_degrees"
   ]
  },
  {
   "cell_type": "code",
   "execution_count": null,
   "metadata": {},
   "outputs": [],
   "source": [
    "#need to add the odometry/rotation count child script to the robot model"
   ]
  }
 ],
 "metadata": {
  "kernelspec": {
   "display_name": "Python 3",
   "language": "python",
   "name": "python3"
  },
  "language_info": {
   "codemirror_mode": {
    "name": "ipython",
    "version": 3
   },
   "file_extension": ".py",
   "mimetype": "text/x-python",
   "name": "python",
   "nbconvert_exporter": "python",
   "pygments_lexer": "ipython3",
   "version": "3.6.1"
  }
 },
 "nbformat": 4,
 "nbformat_minor": 2
}
