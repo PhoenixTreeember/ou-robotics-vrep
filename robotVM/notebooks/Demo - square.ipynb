{
 "cells": [
  {
   "cell_type": "markdown",
   "metadata": {},
   "source": [
    "# Traverse a Square\n",
    "\n",
    "In this example, you will explore various strategies for programming the robot to traverse a regular two dimensional shape, such as a square.\n",
    "\n",
    "These strategies will address two different sorts of concern:\n",
    "\n",
    "- how to use programming constructs to create programmes that are concise and easy to maintain;\n",
    "- how to control a robot reliably.\n",
    "\n"
   ]
  },
  {
   "cell_type": "code",
   "execution_count": 1,
   "metadata": {},
   "outputs": [],
   "source": [
    "%run 'Set-up.ipynb'\n",
    "%run 'Loading scenes.ipynb'"
   ]
  },
  {
   "cell_type": "code",
   "execution_count": 28,
   "metadata": {},
   "outputs": [
    {
     "name": "stdout",
     "output_type": "stream",
     "text": [
      "Loading class: PioneerP3DX_base\n",
      "This is a base class for the PioneerP3DX_base model\n",
      "\n",
      "Loading class: PioneerP3DX\n",
      "Methods available in PioneerP3DX:\n",
      "\tmove_backward\n",
      "\tmove_forward\n",
      "\trotate_left\n",
      "\trotate_right\n",
      "\tset_two_motor\n",
      "\tultrasonic_left_length\n",
      "\tultrasonic_right_length\n",
      "\n",
      "Loading class: PioneerP3DXL\n",
      "Methods available in PioneerP3DXL:\n",
      "\tcolor_left\n",
      "\tcolor_right\n",
      "\tmove_backward\n",
      "\tmove_forward\n",
      "\trotate_left\n",
      "\trotate_right\n",
      "\tset_two_motor\n",
      "\tultrasonic_left_length\n",
      "\tultrasonic_right_length\n",
      "\n",
      "The following text widgets are available for display: sensorText1, sensorText2\n"
     ]
    }
   ],
   "source": [
    "%run 'vrep_models/PioneerP3DX.ipynb'"
   ]
  },
  {
   "cell_type": "markdown",
   "metadata": {},
   "source": [
    "## Driving the Robot - Forwards, Backwards, Turns\n",
    "\n"
   ]
  },
  {
   "cell_type": "code",
   "execution_count": null,
   "metadata": {},
   "outputs": [],
   "source": []
  },
  {
   "cell_type": "markdown",
   "metadata": {},
   "source": [
    "## A Simple Square"
   ]
  },
  {
   "cell_type": "code",
   "execution_count": 55,
   "metadata": {},
   "outputs": [],
   "source": [
    "%%vrepsim '../scenes/Pioneer.ttt' PioneerP3DX\n",
    "import time\n",
    "turntime=0.45\n",
    "robot.move_forward()\n",
    "time.sleep(1)\n",
    "robot.rotate_left(2)\n",
    "time.sleep(turntime)\n",
    "robot.move_forward()\n",
    "time.sleep(1)\n",
    "robot.rotate_left(2)\n",
    "time.sleep(turntime)\n",
    "robot.move_forward()\n",
    "time.sleep(1)\n",
    "robot.rotate_left(2)\n",
    "time.sleep(turntime)\n",
    "robot.move_forward()\n",
    "time.sleep(1)\n",
    "turntime=0.45\n",
    "robot.move_forward()\n",
    "time.sleep(1)\n",
    "robot.rotate_left(2)\n",
    "time.sleep(turntime)\n",
    "robot.move_forward()\n",
    "time.sleep(1)\n",
    "robot.rotate_left(2)\n",
    "time.sleep(turntime)\n",
    "robot.move_forward()\n",
    "time.sleep(1)\n",
    "robot.rotate_left(2)\n",
    "time.sleep(turntime)\n",
    "robot.move_forward()\n",
    "time.sleep(1)"
   ]
  },
  {
   "cell_type": "code",
   "execution_count": null,
   "metadata": {},
   "outputs": [],
   "source": []
  }
 ],
 "metadata": {
  "kernelspec": {
   "display_name": "Python 3",
   "language": "python",
   "name": "python3"
  },
  "language_info": {
   "codemirror_mode": {
    "name": "ipython",
    "version": 3
   },
   "file_extension": ".py",
   "mimetype": "text/x-python",
   "name": "python",
   "nbconvert_exporter": "python",
   "pygments_lexer": "ipython3",
   "version": "3.6.1"
  }
 },
 "nbformat": 4,
 "nbformat_minor": 2
}
