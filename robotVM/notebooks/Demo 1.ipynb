{
 "cells": [
  {
   "cell_type": "code",
   "execution_count": 7,
   "metadata": {},
   "outputs": [],
   "source": [
    "%run 'Set-up.ipynb'\n"
   ]
  },
  {
   "cell_type": "code",
   "execution_count": 23,
   "metadata": {},
   "outputs": [],
   "source": [
    "%run 'Loading scenes.ipynb'"
   ]
  },
  {
   "cell_type": "code",
   "execution_count": 24,
   "metadata": {},
   "outputs": [],
   "source": [
    "loadSceneRelativeToClient()"
   ]
  },
  {
   "cell_type": "code",
   "execution_count": 25,
   "metadata": {},
   "outputs": [],
   "source": [
    "%run 'vrep_models/PioneerP3DX.ipynb'"
   ]
  },
  {
   "cell_type": "code",
   "execution_count": 31,
   "metadata": {},
   "outputs": [],
   "source": [
    "steps=10\n",
    "with VRep.connect(\"127.0.0.1\", 19997) as api:\n",
    "    r = PioneerP3DX(api)\n",
    "    while steps:\n",
    "        rl = r.right_length()\n",
    "        ll = r.left_length()\n",
    "        if rl > 0.01 and rl < 10:\n",
    "            r.rotate_left()\n",
    "        elif ll > 0.01 and ll < 10:\n",
    "            r.rotate_right()\n",
    "        else:\n",
    "            r.move_forward()\n",
    "        time.sleep(0.3)\n",
    "        r.move_backward()\n",
    "        time.sleep(0.2)\n",
    "        steps=steps-1"
   ]
  },
  {
   "cell_type": "code",
   "execution_count": null,
   "metadata": {},
   "outputs": [],
   "source": []
  }
 ],
 "metadata": {
  "kernelspec": {
   "display_name": "Python 3",
   "language": "python",
   "name": "python3"
  },
  "language_info": {
   "codemirror_mode": {
    "name": "ipython",
    "version": 3
   },
   "file_extension": ".py",
   "mimetype": "text/x-python",
   "name": "python",
   "nbconvert_exporter": "python",
   "pygments_lexer": "ipython3",
   "version": "3.6.1"
  }
 },
 "nbformat": 4,
 "nbformat_minor": 2
}
