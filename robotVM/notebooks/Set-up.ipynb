{
 "cells": [
  {
   "cell_type": "code",
   "execution_count": null,
   "metadata": {},
   "outputs": [],
   "source": [
    "##On CLI under sudo\n",
    "#!pip3 install 'git+https://github.com/Troxid/vrep-api-python'"
   ]
  },
  {
   "cell_type": "code",
   "execution_count": null,
   "metadata": {},
   "outputs": [],
   "source": [
    "import os\n",
    "\n",
    "if \"VREP_VM\" in os.environ:\n",
    "    os.environ[\"VREP\"]='/opt/V-REP_PRO_EDU_V3_4_0_Linux'\n",
    "    os.environ[\"VREP_LIBRARY\"]=os.environ[\"VREP\"]+'/programming/remoteApiBindings/lib/lib/64Bit/'\n",
    "else:\n",
    "    os.environ[\"VREP\"]='/Applications/V-REP_PRO_EDU_V3_4_0_Mac'\n",
    "    os.environ[\"VREP_LIBRARY\"]=os.environ[\"VREP\"]+'/programming/remoteApiBindings/lib/lib/'"
   ]
  }
 ],
 "metadata": {
  "kernelspec": {
   "display_name": "Python 3",
   "language": "python",
   "name": "python3"
  },
  "language_info": {
   "codemirror_mode": {
    "name": "ipython",
    "version": 3
   },
   "file_extension": ".py",
   "mimetype": "text/x-python",
   "name": "python",
   "nbconvert_exporter": "python",
   "pygments_lexer": "ipython3",
   "version": "3.6.1"
  }
 },
 "nbformat": 4,
 "nbformat_minor": 2
}
