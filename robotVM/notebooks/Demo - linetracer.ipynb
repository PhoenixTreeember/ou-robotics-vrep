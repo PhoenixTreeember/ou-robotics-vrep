{
 "cells": [
  {
   "cell_type": "markdown",
   "metadata": {},
   "source": [
    "# Grey Lines Light Logging Demo\n",
    "\n",
    "The scene defined for this activity includes:\n",
    "\n",
    "- the LineTracer robot with a downward facing light sensor;\n",
    "- a test track comprising three gray lines.\n",
    "\n",
    "The LineTracer in this scene is instrumented with some simple odometry that tracks the number of rotations of the left wheel.\n",
    "\n",
    "As the robot runs over the grey lines, we can log the rotation count data and the light sensor data and then display the results on a chart inside the simulator.\n",
    "\n",
    "We can then use the chart to distinguish the different lines, their location relative to the starting position of the robot, and their widths.\n",
    "\n",
    "As well as viewing the data in the simulator, we can also retrieve data from the simulator as the simulation runs. This means we can log the sensor data in the control program running from the notebook and then analyse and display the data within code cells elsewhere in the notebook, outside of the simulator context."
   ]
  },
  {
   "cell_type": "code",
   "execution_count": 1,
   "metadata": {},
   "outputs": [],
   "source": [
    "%run 'Set-up.ipynb'\n",
    "%run 'Loading scenes.ipynb'\n",
    "\n",
    "#The following magic command allows us to embed dynamically created charts in the notebook\n",
    "%matplotlib inline"
   ]
  },
  {
   "cell_type": "code",
   "execution_count": 2,
   "metadata": {},
   "outputs": [
    {
     "name": "stdout",
     "output_type": "stream",
     "text": [
      "Loading class: lineTracer\n",
      "Methods available in lineTracer:\n",
      "\tfwd_left\n",
      "\tfwd_right\n",
      "\tgetrots\n",
      "\tgetval\n",
      "\tleft_light\n",
      "\tleft_line\n",
      "\tmove_backward\n",
      "\tmove_forward\n",
      "\tposition_left_joint\n",
      "\tright_light\n",
      "\tright_line\n",
      "\trotate_left\n",
      "\trotate_right\n",
      "\tset_two_motor\n",
      "\tstop\n",
      "\n"
     ]
    }
   ],
   "source": [
    "%run 'vrep_models/lineTracer.ipynb'"
   ]
  },
  {
   "cell_type": "markdown",
   "metadata": {},
   "source": [
    "## Run over lines for a specified time"
   ]
  },
  {
   "cell_type": "code",
   "execution_count": 3,
   "metadata": {},
   "outputs": [],
   "source": [
    "#Make use of time in demos\n",
    "import time"
   ]
  },
  {
   "cell_type": "code",
   "execution_count": 4,
   "metadata": {},
   "outputs": [],
   "source": [
    "%%vrepsim '../scenes/OU_grey lines.ttt' lineTracer\n",
    "steps=10\n",
    "while steps:\n",
    "    robot.move_forward(2)\n",
    "    time.sleep(0.3)\n",
    "    steps=steps-1"
   ]
  },
  {
   "cell_type": "markdown",
   "metadata": {},
   "source": [
    "## Run over lines for a specified number of wheel rotations\n",
    "\n",
    "Also log the left light sensor average intensity value."
   ]
  },
  {
   "cell_type": "code",
   "execution_count": 5,
   "metadata": {},
   "outputs": [],
   "source": [
    "import pandas as pd\n",
    "data={'light':pd.DataFrame()}"
   ]
  },
  {
   "cell_type": "code",
   "execution_count": 6,
   "metadata": {},
   "outputs": [],
   "source": [
    "%%vrepsim '../scenes/OU_grey lines.ttt' lineTracer\n",
    "\n",
    "speed=2\n",
    "sample_rate=0.3\n",
    "max_rotations=5\n",
    "\n",
    "robot.move_forward(speed)\n",
    "while robot.getrots()<max_rotations:    \n",
    "    data['light']=pd.concat([data['light'], pd.DataFrame([{'rots':robot.getrots(),\n",
    "                                                           'line_left':robot.left_line(),\n",
    "                                                           'light_left':robot.left_light()}])])\n",
    "    time.sleep(sample_rate)"
   ]
  },
  {
   "cell_type": "code",
   "execution_count": 7,
   "metadata": {},
   "outputs": [
    {
     "data": {
      "image/png": "[encoded data removed]",
      "text/plain": [
       "<matplotlib.figure.Figure at 0x10e75cf98>"
      ]
     },
     "metadata": {},
     "output_type": "display_data"
    }
   ],
   "source": [
    "data['light'].plot(x='rots',y='light_left');"
   ]
  },
  {
   "cell_type": "code",
   "execution_count": null,
   "metadata": {},
   "outputs": [],
   "source": []
  },
  {
   "cell_type": "code",
   "execution_count": null,
   "metadata": {},
   "outputs": [],
   "source": []
  }
 ],
 "metadata": {
  "kernelspec": {
   "display_name": "Python 3",
   "language": "python",
   "name": "python3"
  },
  "language_info": {
   "codemirror_mode": {
    "name": "ipython",
    "version": 3
   },
   "file_extension": ".py",
   "mimetype": "text/x-python",
   "name": "python",
   "nbconvert_exporter": "python",
   "pygments_lexer": "ipython3",
   "version": "3.6.1"
  }
 },
 "nbformat": 4,
 "nbformat_minor": 2
}
