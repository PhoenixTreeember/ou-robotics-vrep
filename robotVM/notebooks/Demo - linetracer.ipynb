{
 "cells": [
  {
   "cell_type": "markdown",
   "metadata": {},
   "source": [
    "# Grey Lines Light Logging Demo\n",
    "\n",
    "The scene defined for this activity includes:\n",
    "\n",
    "- the LineTracer robot;\n",
    "- a test track comprising three gray lines.\n",
    "\n",
    "The LineTracer in this scene is instrumented with some simple odemetry that tracks the number of rotations of the left wheel."
   ]
  },
  {
   "cell_type": "code",
   "execution_count": 45,
   "metadata": {},
   "outputs": [],
   "source": [
    "%run 'Set-up.ipynb'\n",
    "%run 'Loading scenes.ipynb'"
   ]
  },
  {
   "cell_type": "code",
   "execution_count": 97,
   "metadata": {},
   "outputs": [
    {
     "name": "stdout",
     "output_type": "stream",
     "text": [
      "Loading class: lineTracer\n",
      "Methods available in lineTracer:\n",
      "\tfwd_left\n",
      "\tfwd_right\n",
      "\tgetrots\n",
      "\tgetval\n",
      "\tleft_light\n",
      "\tleft_line\n",
      "\tmove_backward\n",
      "\tmove_forward\n",
      "\tposition_left_joint\n",
      "\tright_light\n",
      "\tright_line\n",
      "\tstop\n",
      "\n"
     ]
    }
   ],
   "source": [
    "%run 'vrep_models/lineTracer.ipynb'"
   ]
  },
  {
   "cell_type": "markdown",
   "metadata": {},
   "source": [
    "## Run over lines for a specified time"
   ]
  },
  {
   "cell_type": "code",
   "execution_count": null,
   "metadata": {},
   "outputs": [],
   "source": [
    "#Make use of time in demos\n",
    "import time"
   ]
  },
  {
   "cell_type": "code",
   "execution_count": 65,
   "metadata": {},
   "outputs": [],
   "source": [
    "%%vrepsim '../scenes/OU_grey lines.ttt' lineTracer\n",
    "steps=10\n",
    "while steps:\n",
    "    robot.move_forward(2)\n",
    "    time.sleep(0.3)\n",
    "    steps=steps-1"
   ]
  },
  {
   "cell_type": "markdown",
   "metadata": {},
   "source": [
    "## Run over lines for a specified number of wheel rotations\n",
    "\n",
    "Also log the left light sensor average intensity value."
   ]
  },
  {
   "cell_type": "code",
   "execution_count": 98,
   "metadata": {},
   "outputs": [],
   "source": [
    "import pandas as pd\n",
    "data={'light':pd.DataFrame()}"
   ]
  },
  {
   "cell_type": "code",
   "execution_count": 99,
   "metadata": {},
   "outputs": [],
   "source": [
    "%%vrepsim '../scenes/OU_grey lines.ttt' lineTracer\n",
    "\n",
    "speed=2\n",
    "sample_rate=0.3\n",
    "max_rotations=5\n",
    "\n",
    "robot.move_forward(speed)\n",
    "while robot.getrots()<max_rotations:    \n",
    "    data['light']=pd.concat([data['light'], pd.DataFrame([{'rots':robot.getrots(),\n",
    "                                                           'line_left':robot.left_line(),\n",
    "                                                           'light_left':robot.left_light()}])])\n",
    "    time.sleep(sample_rate)"
   ]
  },
  {
   "cell_type": "code",
   "execution_count": 100,
   "metadata": {},
   "outputs": [
    {
     "data": {
      "image/png": "[encoded data removed]",
      "text/plain": [
       "<matplotlib.figure.Figure at 0x10657d898>"
      ]
     },
     "metadata": {},
     "output_type": "display_data"
    }
   ],
   "source": [
    "%matplotlib inline\n",
    "data['light'].plot(x='rots',y='light_left');"
   ]
  },
  {
   "cell_type": "code",
   "execution_count": null,
   "metadata": {},
   "outputs": [],
   "source": []
  }
 ],
 "metadata": {
  "kernelspec": {
   "display_name": "Python 3",
   "language": "python",
   "name": "python3"
  },
  "language_info": {
   "codemirror_mode": {
    "name": "ipython",
    "version": 3
   },
   "file_extension": ".py",
   "mimetype": "text/x-python",
   "name": "python",
   "nbconvert_exporter": "python",
   "pygments_lexer": "ipython3",
   "version": "3.6.1"
  }
 },
 "nbformat": 4,
 "nbformat_minor": 2
}
