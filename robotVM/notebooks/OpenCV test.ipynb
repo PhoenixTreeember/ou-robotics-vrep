{
 "cells": [
  {
   "cell_type": "markdown",
   "metadata": {},
   "source": [
    "# Demonstrate use of OpenCV to Process VREP Video Image"
   ]
  },
  {
   "cell_type": "code",
   "execution_count": 10,
   "metadata": {},
   "outputs": [
    {
     "name": "stdout",
     "output_type": "stream",
     "text": [
      "Collecting opencv-contrib-python\n",
      "  Downloading opencv_contrib_python-3.3.0.10-cp36-cp36m-macosx_10_6_intel.macosx_10_9_intel.macosx_10_9_x86_64.macosx_10_10_intel.macosx_10_10_x86_64.whl (49.5MB)\n",
      "\u001b[K    100% |████████████████████████████████| 49.5MB 27kB/s  eta 0:00:01\n",
      "\u001b[?25hRequirement already satisfied: numpy>=1.11.1 in /usr/local/lib/python3.6/site-packages (from opencv-contrib-python)\n",
      "Installing collected packages: opencv-contrib-python\n",
      "Successfully installed opencv-contrib-python-3.3.0.10\n"
     ]
    }
   ],
   "source": [
    "#!pip3 install opencv-contrib-python\n",
    "#!pip3 install Pillow"
   ]
  },
  {
   "cell_type": "code",
   "execution_count": null,
   "metadata": {},
   "outputs": [],
   "source": [
    "import os\n",
    "\n",
    "if \"VREP_VM\" in os.environ:\n",
    "    os.environ[\"VREP\"]='/opt/V-REP_PRO_EDU_V3_4_0_Linux'\n",
    "    os.environ[\"VREP_LIBRARY\"]=os.environ[\"VREP\"]+'/programming/remoteApiBindings/lib/lib/64Bit/'\n",
    "else:\n",
    "    os.environ[\"VREP\"]='/Applications/V-REP_PRO_EDU_V3_4_0_Mac'\n",
    "    os.environ[\"VREP_LIBRARY\"]=os.environ[\"VREP\"]+'/programming/remoteApiBindings/lib/lib/'"
   ]
  },
  {
   "cell_type": "code",
   "execution_count": 9,
   "metadata": {},
   "outputs": [],
   "source": [
    "%run 'Loading scenes.ipynb'\n",
    "loadSceneRelativeToClient('../scenes/Baxter_demo.ttt')"
   ]
  },
  {
   "cell_type": "code",
   "execution_count": null,
   "metadata": {},
   "outputs": [],
   "source": [
    "from pyrep import VRep\n",
    "from pyrep.vrep import vrep as vrep\n",
    "\n",
    "#Ensure there are no outstanding simulations running\n",
    "vrep.simxFinish(-1)\n",
    "\n",
    "#Open  connection to the simulator\n",
    "api=VRep.connect(\"127.0.0.1\", 19997,True, True, 5000, 5)\n",
    "clientID=api.simulation._id"
   ]
  },
  {
   "cell_type": "code",
   "execution_count": 1,
   "metadata": {},
   "outputs": [],
   "source": [
    "import numpy as np\n",
    "\n",
    "#Recipe largely via https://github.com/nemilya/vrep-api-python-opencv\n",
    "import time\n",
    "\n",
    "from PIL import Image as I\n",
    "import array\n",
    "\n",
    "import cv2, numpy\n",
    "\n",
    "# function based on: \n",
    "#   https://github.com/simondlevy/OpenCV-Python-Hacks/blob/master/greenball_tracker.py\n",
    "def track_green_object(image):\n",
    "\n",
    "    # Blur the image to reduce noise\n",
    "    blur = cv2.GaussianBlur(image, (5,5),0)\n",
    "\n",
    "    # Convert BGR to HSV\n",
    "    hsv = cv2.cvtColor(blur, cv2.COLOR_BGR2HSV)\n",
    "\n",
    "    # Threshold the HSV image for only green colors\n",
    "    lower_green = numpy.array([40,70,70])\n",
    "    upper_green = numpy.array([80,200,200])\n",
    "\n",
    "    # Threshold the HSV image to get only green colors\n",
    "    mask = cv2.inRange(hsv, lower_green, upper_green)\n",
    "    \n",
    "    # Blur the mask\n",
    "    bmask = cv2.GaussianBlur(mask, (5,5),0)\n",
    "\n",
    "    # Take the moments to get the centroid\n",
    "    moments = cv2.moments(bmask)\n",
    "    m00 = moments['m00']\n",
    "    centroid_x, centroid_y = None, None\n",
    "    if m00 != 0:\n",
    "        centroid_x = int(moments['m10']/m00)\n",
    "        centroid_y = int(moments['m01']/m00)\n",
    "\n",
    "    # Assume no centroid\n",
    "    ctr = None\n",
    "\n",
    "    # Use centroid if it exists\n",
    "    if centroid_x != None and centroid_y != None:\n",
    "        ctr = (centroid_x, centroid_y)\n",
    "    return ctr"
   ]
  },
  {
   "cell_type": "code",
   "execution_count": null,
   "metadata": {},
   "outputs": [],
   "source": [
    "api.simulation.start()"
   ]
  },
  {
   "cell_type": "code",
   "execution_count": null,
   "metadata": {},
   "outputs": [],
   "source": [
    "if clientID!=-1:\n",
    "    print('Connected to remote API server')\n",
    "\n",
    "    # get vision sensor objects\n",
    "    res, v0 = vrep.simxGetObjectHandle(clientID, 'v0', vrep.simx_opmode_oneshot_wait)\n",
    "    res, v1 = vrep.simxGetObjectHandle(clientID, 'v1', vrep.simx_opmode_oneshot_wait)\n",
    "\n",
    "\n",
    "    err, resolution, image = vrep.simxGetVisionSensorImage(clientID, v0, 0, vrep.simx_opmode_streaming)\n",
    "    time.sleep(1)\n",
    "\n",
    "    while (vrep.simxGetConnectionId(clientID) != -1):\n",
    "        # get image from vision sensor 'v0'\n",
    "        err, resolution, image = vrep.simxGetVisionSensorImage(clientID, v0, 0, vrep.simx_opmode_buffer)\n",
    "        if err == vrep.simx_return_ok:\n",
    "            img2 = np.array(image,dtype=np.uint8)\n",
    "            img2.resize([resolution[1],resolution[0],3])\n",
    "\n",
    "            # try to find something green\n",
    "            ret = track_green_object(img2)\n",
    "\n",
    "            # overlay rectangle marker if something is found by OpenCV\n",
    "            if ret:\n",
    "                cv2.rectangle(img2,(ret[0]-15,ret[1]-15), (ret[0]+15,ret[1]+15), (0xff,0xf4,0x0d), 1)\n",
    "\n",
    "            # return image to sensor 'v1'\n",
    "            img2 = img2.ravel()\n",
    "            vrep.simxSetVisionSensorImage(clientID, v1, img2, 0, vrep.simx_opmode_oneshot)\n",
    "\n",
    "        elif err == vrep.simx_return_novalue_flag:\n",
    "            print( \"no image yet\")\n",
    "            pass\n",
    "        else:\n",
    "            print( err)\n",
    "else:\n",
    "    print( \"Failed to connect to remote API Server\")\n",
    "vrep.simxFinish(clientID)"
   ]
  },
  {
   "cell_type": "code",
   "execution_count": null,
   "metadata": {},
   "outputs": [],
   "source": [
    "#Stop the simulation\n",
    "api.simulation.stop()\n",
    "\n",
    "#Close the scene\n",
    "vrep.simxCloseScene(api.simulation._id,vrep.simx_opmode_blocking)\n",
    "\n",
    "#Close the connection to the simulator\n",
    "api.close_connection()"
   ]
  }
 ],
 "metadata": {
  "kernelspec": {
   "display_name": "Python 3",
   "language": "python",
   "name": "python3"
  },
  "language_info": {
   "codemirror_mode": {
    "name": "ipython",
    "version": 3
   },
   "file_extension": ".py",
   "mimetype": "text/x-python",
   "name": "python",
   "nbconvert_exporter": "python",
   "pygments_lexer": "ipython3",
   "version": "3.6.1"
  }
 },
 "nbformat": 4,
 "nbformat_minor": 2
}
