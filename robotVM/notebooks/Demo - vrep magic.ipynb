{
 "cells": [
  {
   "cell_type": "markdown",
   "metadata": {},
   "source": [
    "# Pioneer Robot\n",
    "\n",
    "Demonstrations using the Pioneer robot:\n",
    "\n",
    "- to use the ultrasound sound sensors to stay within a walled environment and not collide with the walls;\n",
    "- use downward facing RGB sensors to follow a line."
   ]
  },
  {
   "cell_type": "code",
   "execution_count": 1,
   "metadata": {},
   "outputs": [],
   "source": [
    "#Set up the notebook to work with the V-REP simulator\n",
    "%run 'Set-up.ipynb'\n",
    "%run 'Loading scenes.ipynb'"
   ]
  },
  {
   "cell_type": "code",
   "execution_count": 2,
   "metadata": {},
   "outputs": [
    {
     "name": "stdout",
     "output_type": "stream",
     "text": [
      "Loading class: PioneerP3DX_base\n",
      "This is a base class for the PioneerP3DX_base model\n",
      "\n",
      "Loading class: PioneerP3DX\n",
      "Methods available in PioneerP3DX:\n",
      "\tmove_backward\n",
      "\tmove_forward\n",
      "\trotate_left\n",
      "\trotate_right\n",
      "\tset_two_motor\n",
      "\tultrasonic_left_length\n",
      "\tultrasonic_right_length\n",
      "\n",
      "Loading class: PioneerP3DXL\n",
      "Methods available in PioneerP3DXL:\n",
      "\tcolor_left\n",
      "\tcolor_right\n",
      "\tmove_backward\n",
      "\tmove_forward\n",
      "\trotate_left\n",
      "\trotate_right\n",
      "\tset_two_motor\n",
      "\tultrasonic_left_length\n",
      "\tultrasonic_right_length\n",
      "\n"
     ]
    }
   ],
   "source": [
    "#Load the Pioneer models\n",
    "%run 'vrep_models/PioneerP3DX.ipynb'"
   ]
  },
  {
   "cell_type": "markdown",
   "metadata": {},
   "source": [
    "## Line Follower Example"
   ]
  },
  {
   "cell_type": "code",
   "execution_count": 3,
   "metadata": {},
   "outputs": [
    {
     "name": "stdout",
     "output_type": "stream",
     "text": [
      "Methods available in PioneerP3DXL:\n",
      "\tcolor_left\n",
      "\tcolor_right\n",
      "\tmove_backward\n",
      "\tmove_forward\n",
      "\trotate_left\n",
      "\trotate_right\n",
      "\tset_two_motor\n",
      "\tultrasonic_left_length\n",
      "\tultrasonic_right_length\n"
     ]
    }
   ],
   "source": [
    "%vrep_robot_methods PioneerP3DXL"
   ]
  },
  {
   "cell_type": "code",
   "execution_count": 5,
   "metadata": {},
   "outputs": [],
   "source": [
    "%%vrepsim '../scenes/LineFollowerPioneer.ttt' PioneerP3DXL\n",
    "# black color      :  43\n",
    "# white-gray color : -53\n",
    "import time\n",
    "while True:\n",
    "    lclr = robot.color_left()\n",
    "    rclr = robot.color_right()\n",
    "    if lclr > 10:\n",
    "        robot.rotate_left(0.3)\n",
    "    if rclr > 10:\n",
    "        robot.rotate_right(0.3)\n",
    "    if lclr < -20 and rclr < -20:\n",
    "        robot.move_forward(1.5)\n",
    "    time.sleep(0.001)"
   ]
  },
  {
   "cell_type": "code",
   "execution_count": null,
   "metadata": {},
   "outputs": [],
   "source": []
  },
  {
   "cell_type": "code",
   "execution_count": null,
   "metadata": {},
   "outputs": [],
   "source": []
  }
 ],
 "metadata": {
  "kernelspec": {
   "display_name": "Python 3",
   "language": "python",
   "name": "python3"
  },
  "language_info": {
   "codemirror_mode": {
    "name": "ipython",
    "version": 3
   },
   "file_extension": ".py",
   "mimetype": "text/x-python",
   "name": "python",
   "nbconvert_exporter": "python",
   "pygments_lexer": "ipython3",
   "version": "3.6.1"
  }
 },
 "nbformat": 4,
 "nbformat_minor": 2
}
