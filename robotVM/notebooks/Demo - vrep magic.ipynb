{
 "cells": [
  {
   "cell_type": "markdown",
   "metadata": {},
   "source": [
    "# VREP Magic Demo - Pioneer Robot\n",
    "\n",
    "Demonstration using the Pioneer robot:\n",
    "\n",
    "- use downward facing RGB sensors to follow a line."
   ]
  },
  {
   "cell_type": "code",
   "execution_count": 1,
   "metadata": {},
   "outputs": [],
   "source": [
    "#Set up the notebook to work with the V-REP simulator\n",
    "%run 'Set-up.ipynb'\n",
    "%run 'Loading scenes.ipynb'"
   ]
  },
  {
   "cell_type": "code",
   "execution_count": 4,
   "metadata": {},
   "outputs": [
    {
     "name": "stdout",
     "output_type": "stream",
     "text": [
      "Loading class: PioneerP3DX_base\n",
      "This is a base class for the PioneerP3DX_base model\n",
      "\n",
      "Loading class: PioneerP3DX\n",
      "Methods available in PioneerP3DX:\n",
      "\tget_orientation\n",
      "\tget_orientation_degrees\n",
      "\tmove_backward\n",
      "\tmove_forward\n",
      "\trotate_left\n",
      "\trotate_right\n",
      "\tset_two_motor\n",
      "\tultrasonic_left_length\n",
      "\tultrasonic_right_length\n",
      "\n",
      "Loading class: PioneerP3DXL\n",
      "Methods available in PioneerP3DXL:\n",
      "\tcolor_left\n",
      "\tcolor_right\n",
      "\tget_orientation\n",
      "\tmove_backward\n",
      "\tmove_forward\n",
      "\trotate_left\n",
      "\trotate_right\n",
      "\tset_two_motor\n",
      "\tultrasonic_left_length\n",
      "\tultrasonic_right_length\n",
      "\n",
      "The following text widgets are available for display: sensorText1, sensorText2\n"
     ]
    }
   ],
   "source": [
    "#Load the Pioneer models\n",
    "%run 'vrep_models/PioneerP3DX.ipynb'"
   ]
  },
  {
   "cell_type": "markdown",
   "metadata": {},
   "source": [
    "## Line Follower Example"
   ]
  },
  {
   "cell_type": "code",
   "execution_count": 7,
   "metadata": {},
   "outputs": [
    {
     "name": "stdout",
     "output_type": "stream",
     "text": [
      "Methods available in PioneerP3DXL:\n",
      "\tcolor_left\n",
      "\tcolor_right\n",
      "\tmove_backward\n",
      "\tmove_forward\n",
      "\trotate_left\n",
      "\trotate_right\n",
      "\tset_two_motor\n",
      "\tultrasonic_left_length\n",
      "\tultrasonic_right_length\n"
     ]
    }
   ],
   "source": [
    "%vrep_robot_methods PioneerP3DXL"
   ]
  },
  {
   "cell_type": "code",
   "execution_count": 3,
   "metadata": {},
   "outputs": [],
   "source": [
    "%%vrepsim '../scenes/LineFollowerPioneer.ttt' PioneerP3DXL\n",
    "# black color      :  43\n",
    "# white-gray color : -53\n",
    "import time\n",
    "while True:\n",
    "    lclr = robot.color_left()\n",
    "    rclr = robot.color_right()\n",
    "    if lclr > 10:\n",
    "        robot.rotate_left(0.3)\n",
    "    if rclr > 10:\n",
    "        robot.rotate_right(0.3)\n",
    "    if lclr < -20 and rclr < -20:\n",
    "        robot.move_forward(1.5)\n",
    "    time.sleep(0.001)"
   ]
  },
  {
   "cell_type": "markdown",
   "metadata": {},
   "source": [
    "## Widget Demo\n",
    "\n",
    "The following demo shows how to use a couple of text widgets that are updated from the robot control script."
   ]
  },
  {
   "cell_type": "code",
   "execution_count": 64,
   "metadata": {},
   "outputs": [],
   "source": [
    "import time\n",
    "def line_follow(pioneer):\n",
    "    lclr = pioneer.color_left()\n",
    "    rclr = pioneer.color_right()\n",
    "    if lclr > 10:\n",
    "        pioneer.rotate_left(0.3)\n",
    "    if rclr > 10:\n",
    "        pioneer.rotate_right(0.3)\n",
    "    if lclr < -20 and rclr < -20:\n",
    "        pioneer.move_forward(1.5)\n",
    "    time.sleep(0.001)"
   ]
  },
  {
   "cell_type": "code",
   "execution_count": 65,
   "metadata": {},
   "outputs": [
    {
     "data": {
      "application/vnd.jupyter.widget-view+json": {
       "model_id": "592e6279ff264d4b900ae4bbd6a27e01",
       "version_major": 2,
       "version_minor": 0
      },
      "text/plain": [
       "A Jupyter Widget"
      ]
     },
     "metadata": {},
     "output_type": "display_data"
    },
    {
     "data": {
      "application/vnd.jupyter.widget-view+json": {
       "model_id": "822aaa2454a440b4bd4a3bdae6878a37",
       "version_major": 2,
       "version_minor": 0
      },
      "text/plain": [
       "A Jupyter Widget"
      ]
     },
     "metadata": {},
     "output_type": "display_data"
    }
   ],
   "source": [
    "sensorText1.description = 'Left light'\n",
    "sensorText2.description = 'Max left light'\n",
    "\n",
    "display(sensorText1,sensorText2)"
   ]
  },
  {
   "cell_type": "code",
   "execution_count": 7,
   "metadata": {},
   "outputs": [],
   "source": [
    "%%vrepsim '../scenes/LineFollowerPioneer.ttt' PioneerP3DXL    \n",
    "maxval=robot.color_left() \n",
    "while True:\n",
    "    line_follow(robot)\n",
    "    sensorText1.value =str(robot.color_left())\n",
    "    maxval =  robot.color_left() if robot.color_left() > maxval else maxval\n",
    "    sensorText2.value=str(maxval)"
   ]
  },
  {
   "cell_type": "markdown",
   "metadata": {},
   "source": [
    "## Returning data"
   ]
  },
  {
   "cell_type": "code",
   "execution_count": 57,
   "metadata": {},
   "outputs": [],
   "source": [
    "%matplotlib inline\n",
    "import pandas as pd\n",
    "\n",
    "df=pd.DataFrame(columns=['Time','Left sensor'])\n",
    "\n",
    "#If we want to set df directly within the evaluated code in the vrepsim block\n",
    "#we need to specify it in that block using: global df\n",
    "#However, objects are mutable in that scope, so pass the dataframe that way\n",
    "data={'df':df}"
   ]
  },
  {
   "cell_type": "code",
   "execution_count": 58,
   "metadata": {},
   "outputs": [],
   "source": [
    "%%vrepsim '../scenes/LineFollowerPioneer.ttt' PioneerP3DXL\n",
    "\n",
    "maxval=robot.color_left()\n",
    "start_time = time.time()\n",
    "while True:\n",
    "    line_follow(robot)\n",
    "    sensorText1.value =str(robot.color_left())\n",
    "    maxval =  robot.color_left() if robot.color_left() > maxval else maxval\n",
    "    sensorText2.value=str(maxval)\n",
    "    elapsed_time = time.time() - start_time\n",
    "    data['df']=pd.concat([data['df'],pd.DataFrame([{'Time':elapsed_time,\n",
    "                                                    'Left sensor':robot.color_left()}])])"
   ]
  },
  {
   "cell_type": "code",
   "execution_count": 59,
   "metadata": {},
   "outputs": [
    {
     "data": {
      "image/png": "[encoded data removed]",
      "text/plain": [
       "<matplotlib.figure.Figure at 0x109e4cef0>"
      ]
     },
     "metadata": {},
     "output_type": "display_data"
    }
   ],
   "source": [
    "data['df'].plot(x='Time',y='Left sensor');"
   ]
  },
  {
   "cell_type": "code",
   "execution_count": null,
   "metadata": {},
   "outputs": [],
   "source": []
  }
 ],
 "metadata": {
  "kernelspec": {
   "display_name": "Python 3",
   "language": "python",
   "name": "python3"
  },
  "language_info": {
   "codemirror_mode": {
    "name": "ipython",
    "version": 3
   },
   "file_extension": ".py",
   "mimetype": "text/x-python",
   "name": "python",
   "nbconvert_exporter": "python",
   "pygments_lexer": "ipython3",
   "version": "3.6.1"
  }
 },
 "nbformat": 4,
 "nbformat_minor": 2
}
