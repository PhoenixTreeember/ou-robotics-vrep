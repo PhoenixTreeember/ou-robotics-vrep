{
 "cells": [
  {
   "cell_type": "markdown",
   "metadata": {},
   "source": [
    "# Traverse a Square - Part 3 - Loops\n",
    "\n",
    "Compared to the original programme, the programme that contains the variables is easier to modify. But it still contains a lot of repetition.\n",
    "\n",
    "Let's remind ourselves of it:\n",
    "\n",
    "```python\n",
    "import time\n",
    "\n",
    "side_length_time=1\n",
    "turn_speed=1.8\n",
    "turn_time=0.45\n",
    "\n",
    "#side 1\n",
    "robot.move_forward()\n",
    "time.sleep(side_length_time)\n",
    "#turn 1\n",
    "robot.rotate_left(turn_speed)\n",
    "time.sleep(turn_time)\n",
    "#side 2\n",
    "robot.move_forward()\n",
    "time.sleep(side_length_time)\n",
    "#turn 2\n",
    "robot.rotate_left(turn_speed)\n",
    "time.sleep(turn_time)\n",
    "#side 3\n",
    "robot.move_forward()\n",
    "time.sleep(side_length_time)\n",
    "#turn 3\n",
    "robot.rotate_left(turn_speed)\n",
    "time.sleep(turn_time)\n",
    "#side 4\n",
    "robot.move_forward()\n",
    "time.sleep(side_length_time)\n",
    "```\n"
   ]
  },
  {
   "cell_type": "markdown",
   "metadata": {},
   "source": [
    "One of the principles of good computer programming is often referred to using the acronym *DRY*, which stands for *Don't Repeat Yourself*.\n",
    "\n",
    "So what bits of repetition can you see in our simple square traversing program?\n",
    "\n",
    "I think the following block of code repeats:\n",
    "\n",
    "```python\n",
    "#side\n",
    "robot.move_forward()\n",
    "time.sleep(side_length_time)\n",
    "#turn\n",
    "robot.rotate_left(turn_speed)\n",
    "time.sleep(turn_time)\n",
    "```\n",
    "\n",
    "So how can we get out programme to repeat that block of code the required number of times?"
   ]
  },
  {
   "cell_type": "markdown",
   "metadata": {},
   "source": [
    "## Introducing the `for` loop\n",
    "\n",
    "In common with many programming languages, Python supports a construct known as a `for` loop. This provides a means to repeat a block of code a required number of times.\n",
    "\n",
    "The loop construction can be illustrated by running the following code cell:"
   ]
  },
  {
   "cell_type": "code",
   "execution_count": null,
   "metadata": {},
   "outputs": [],
   "source": [
    "for count in range(0,3):\n",
    "    print(count)\n",
    "    \n",
    "print(\"And the final value of `count` is\", count)"
   ]
  },
  {
   "cell_type": "markdown",
   "metadata": {},
   "source": [
    "Let's pick that apart.\n",
    "\n",
    "First, consider the `range(0,3)` statement.\n",
    "\n",
    "The `range(M, N)` statement creates a so-called *iterator* that returns a sequence of numbers in the range `M` to `N-1` in sequence, one number each time the statement is called.\n",
    "\n",
    "(In fact, we could use a simpler `range()` statement, `range(N)`, which by default iterates through numbers on the range `0..N-1`.)\n",
    "\n",
    "The `for` statement is a construct that will repeated 'pull out' each element from an iterator one item at a time, pass, setting a variable (in the above case, `count`) to the extracted value on each pass, and then running the code block \"contained\" in the loop.\n",
    "\n",
    "Containment in the loop is indicated by indenting lines of code immediately following the the `for` statement."
   ]
  },
  {
   "cell_type": "markdown",
   "metadata": {},
   "source": [
    "Using a `for` loop, do you think you could write a program that drives the robot around a square and that only requires you to state the \"traverse side\" and \"turn\" actions once?\n",
    "\n",
    "Load in the set up requirements, and then have a go at writing the programme."
   ]
  },
  {
   "cell_type": "code",
   "execution_count": null,
   "metadata": {},
   "outputs": [],
   "source": [
    "%run 'Set-up.ipynb'\n",
    "%run 'Loading scenes.ipynb'\n",
    "%run 'vrep_models/PioneerP3DX.ipynb'"
   ]
  },
  {
   "cell_type": "code",
   "execution_count": null,
   "metadata": {},
   "outputs": [],
   "source": [
    "%%vrepsim '../scenes/Pioneer_OU.ttt' PioneerP3DX\n",
    "import time\n",
    "\n",
    "#Your code here"
   ]
  },
  {
   "cell_type": "markdown",
   "metadata": {},
   "source": [
    "How did you get on?\n",
    "\n",
    "You can see my attempt below - note how I set the variable *outside* the loop so they are only set once.\n",
    "\n",
    "Also note how I abstracted out the number of sides into a variable and added a variable to allow me to set the speed of moving along the side."
   ]
  },
  {
   "cell_type": "code",
   "execution_count": null,
   "metadata": {},
   "outputs": [],
   "source": [
    "%%vrepsim '../scenes/Pioneer_OU.ttt' PioneerP3DX\n",
    "import time\n",
    "\n",
    "side_speed=2\n",
    "side_length_time=1\n",
    "turn_speed=1.8\n",
    "turn_time=0.45\n",
    "\n",
    "number_of_sides=4\n",
    "\n",
    "for sides in range(0,number_of_sides):\n",
    "    #side\n",
    "    robot.move_forward(side_speed)\n",
    "    time.sleep(side_length_time)\n",
    "    #turn\n",
    "    robot.rotate_left(turn_speed)\n",
    "    time.sleep(turn_time)\n",
    "    \n",
    "#We could put additional code here\n",
    "#This code would execute once the for loop has completely finished"
   ]
  },
  {
   "cell_type": "markdown",
   "metadata": {},
   "source": [
    "## There's Often Another Way - The `while` Loop\n",
    "\n",
    "One of the joys - or maybe it's frustrations?! - of writing computer programmes is that there are often multiple ways of achieving the same effect.\n",
    "\n",
    "For example, as an alternative to using a `for` loop, we could use another loop construct, the `while` loop.\n",
    "\n",
    "The `while` loop is a *conditional statement* that starts by checking the truth or falsity of a condition; if that condition evaluates as \"true\", the while loop executes the code that is contained within it, otherwise the programme continues by executing the next statement *after* the while block.\n",
    "\n",
    "If the `while` loop executes the code contained within it, once that code has finshed executing the `while` loop checks the state of the condition again, and the process repeats.\n",
    "\n",
    "So what is a logical, or Boolean, *condition*?"
   ]
  },
  {
   "cell_type": "markdown",
   "metadata": {},
   "source": [
    "### Conditions and Conditional Statements\n",
    "\n",
    "Boolean or logical conditions are logical statements that evaluate as a Boolean `True` or `False` value. Conditional statements are statements that test a logical condition and then make a decision as what to do next on based on whether the condition evaluates as `True` or `False`.\n",
    "\n",
    "In it's simplest form, we can use a `while` statement to create an *infinite loop* by explicitly setting the tested condition to be `True`.\n",
    "\n",
    "```python\n",
    "while True:\n",
    "    #an infinite loop\n",
    "    #The pass statement is a null statement (\"do nothing\")\n",
    "    pass\n",
    "```\n",
    "\n",
    "This loop that will execute the contained code block indefinitely (an infinite number of times). In the above case, the programme will do nothing, forever.\n",
    "\n",
    "You can stop an infinite loop running in a code cell by pressing the *Stop* button on the notebook toolbar.\n",
    "\n",
    "For example, run the following `while` loop and then stop it:"
   ]
  },
  {
   "cell_type": "code",
   "execution_count": null,
   "metadata": {},
   "outputs": [],
   "source": [
    "count=0\n",
    "\n",
    "while True:\n",
    "    count=count+1\n",
    "    \n",
    "count"
   ]
  },
  {
   "cell_type": "markdown",
   "metadata": {},
   "source": [
    "You may have noticed that the value of `count`, the final line of the cell, is not displayed.\n",
    "\n",
    "This is because the programme never gets that far. When you stop the code executing, you stop it whilst it is still inside the `while` loop.\n",
    "\n",
    "Check the `count` value to see how many times the `while` loop iterated round:"
   ]
  },
  {
   "cell_type": "code",
   "execution_count": null,
   "metadata": {},
   "outputs": [],
   "source": [
    "count"
   ]
  },
  {
   "cell_type": "markdown",
   "metadata": {},
   "source": [
    "Rather than looping an infinite number of times, we could test a condition based on how many times we have already been round the loop.\n",
    "\n",
    "In a code cell, explore the Boolean nature of the following examples, one at a time, or use ones of your own devising:\n",
    "\n",
    "```python\n",
    "#Inequality tests\n",
    "4 > 3\n",
    "5 < 2\n",
    "5 >= 3\n",
    "print(3 <= 2)\n",
    "\n",
    "#We can test variables\n",
    "apples=1\n",
    "pears=2\n",
    "\n",
    "apples > pears\n",
    "apples + 1 == pears\n",
    "\n",
    "#Equality tests - this is not \"double assignment\"\n",
    "1==1\n",
    "1==2\n",
    "apples==1\n",
    "\n",
    "#And \"not equal\" tests...\n",
    "4 != 5\n",
    "4 != 4\n",
    "\n",
    "#Integer numbers have a truth value: 0 is False, others are true\n",
    "\n",
    "1==True\n",
    "0==False\n",
    "True==False\n",
    "1==False\n",
    "```"
   ]
  },
  {
   "cell_type": "code",
   "execution_count": null,
   "metadata": {},
   "outputs": [],
   "source": [
    "#Test some Boolean conditions, one at a time\n"
   ]
  },
  {
   "cell_type": "markdown",
   "metadata": {},
   "source": [
    "Using a conditional test based on testing a `count` variable that increments each time a `while` loop loops round, see if you can use a `while` loop to count up from 1 to 4, displaying the count each time round the loop using a `print()` statement.\n",
    "\n",
    "If the `while` loop looks like it's stuck in an infinite loop, stop it executing using the stop button in the notebook toolbar."
   ]
  },
  {
   "cell_type": "code",
   "execution_count": null,
   "metadata": {},
   "outputs": [],
   "source": [
    "#Use a while loop to print out a count going from 1 to 4\n"
   ]
  },
  {
   "cell_type": "markdown",
   "metadata": {},
   "source": [
    "How did you do?\n",
    "\n",
    "\n",
    "Here's one way of doing it:\n",
    "\n",
    "```python\n",
    "count=1\n",
    "while count<=4:\n",
    "    print(count)\n",
    "```\n",
    "\n",
    "\n",
    "Now see if you can use a `while` loop to get our simulated robot to trace out a square."
   ]
  },
  {
   "cell_type": "code",
   "execution_count": null,
   "metadata": {},
   "outputs": [],
   "source": [
    "%%vrepsim '../scenes/Pioneer_OU.ttt' PioneerP3DX\n",
    "import time\n",
    "\n"
   ]
  },
  {
   "cell_type": "markdown",
   "metadata": {},
   "source": [
    "### Using `break`\n",
    "\n",
    "If the condition tested by the `while` loop evaluates as `False`, the programme moves on to the next statement, if any, after the `while` block.\n",
    "\n",
    "However, we can also break out of the `while` loop using another sort of conditional statement, the `if` statement, and invoking the `break` command, which moves the programme flow out of the while loop and onto the next statement, if any, after the `while` block."
   ]
  },
  {
   "cell_type": "code",
   "execution_count": null,
   "metadata": {},
   "outputs": [],
   "source": [
    "count=1\n",
    "\n",
    "#Looks like an infinite loop...\n",
    "while True:\n",
    "    print(count)\n",
    "    #but with a break out clause\n",
    "    if count==4:\n",
    "        break\n",
    "    count = count+1"
   ]
  },
  {
   "cell_type": "markdown",
   "metadata": {},
   "source": [
    "See if you can use this form of loop to get the simulated robot to traverse a square.\n",
    "\n",
    "As you write your program, try to remember not to repeat yourself..."
   ]
  },
  {
   "cell_type": "code",
   "execution_count": null,
   "metadata": {},
   "outputs": [],
   "source": [
    "%%vrepsim '../scenes/Pioneer_OU.ttt' PioneerP3DX\n",
    "import time\n"
   ]
  },
  {
   "cell_type": "markdown",
   "metadata": {},
   "source": [
    "How did you get on?\n",
    "\n",
    "You may have found that your robot traced out only three sides, or maybe it did five sides, rather than the required four sides.\n",
    "\n",
    "Check the logic of your programme if so:\n",
    "\n",
    "- what was the original value of the counter?\n",
    "- where did you place the conditional test? Sometimes it can be clearer to test at the start of the block, sometimes it can be clearer to test at the end of the block.\n",
    "- where in your programme did you change the counter relative to the conditional test of it? \n",
    "\n",
    "Here's what my code looked like - it's a little perverse in that it counts down, rather than up:\n",
    "\n",
    "```python\n",
    "import time\n",
    "\n",
    "side_speed=2\n",
    "side_length_time=1\n",
    "turn_speed=1.8\n",
    "turn_time=0.45\n",
    "\n",
    "number_of_sides_to_do=4\n",
    "\n",
    "while True:\n",
    "    \n",
    "    print(\"Starting side\", (4 - number_of_sides_to_do) + 1)\n",
    "    \n",
    "    #side\n",
    "    robot.move_forward(side_speed)\n",
    "    time.sleep(side_length_time)\n",
    "    \n",
    "    #turn\n",
    "    robot.rotate_left(turn_speed)\n",
    "    time.sleep(turn_time)\n",
    "    \n",
    "    number_of_sides_to_do=number_of_sides_to_do - 1\n",
    "    print(\"Sides still to do:\",number_of_sides_to_do)\n",
    "    \n",
    "    if number_of_sides_to_do==0:\n",
    "        break\n",
    "```\n",
    "\n"
   ]
  },
  {
   "cell_type": "markdown",
   "metadata": {},
   "source": [
    "So, that's *loops* __and__ *conditional statements*.\n",
    "\n",
    "It's been a busy notebook, concept-wise, packed full of computational programming ideas. In particular:\n",
    "\n",
    "- the use of iterators, such as the `range()` function, that can return a series of incrementing values within a particular range when used in conjuction with a `for` statement;\n",
    "- a `for` loop, that repeatedly requests one from a series of items represented as an interator. The loop executes the code contained within it the same number of times as there are items represented by the iterator. The value of each item retrieved from the iterator is assigned to a variable that can be used within the for loop.\n",
    "- Boolean condition statements that can evaluate as `True` or `False`.\n",
    "- a `while` loop, that tests a condition and runs the code block contained within it if the condition evaluates `True`, passing on to the first line of code *after* the `while` block, if there is one.\n",
    "- a conditional `if` statement that tests a condition and executes a contained code block if the condition evaluates `True`.\n",
    "- a `break` statement that can be used inside a `while` block to escape from it and pass control to the first line of code *after* the `while` block, if there is one. This can be used in association with a conditional `if` statement to break out of a `while` loop if a condition is met within it.\n",
    "\n",
    "As far as Big Ideas in programming go, you've now been introduced to many of them. But there are still one or two more to come, as the next notebook in this them will show."
   ]
  }
 ],
 "metadata": {
  "kernelspec": {
   "display_name": "Python 3",
   "language": "python",
   "name": "python3"
  },
  "language_info": {
   "codemirror_mode": {
    "name": "ipython",
    "version": 3
   },
   "file_extension": ".py",
   "mimetype": "text/x-python",
   "name": "python",
   "nbconvert_exporter": "python",
   "pygments_lexer": "ipython3",
   "version": "3.6.1"
  }
 },
 "nbformat": 4,
 "nbformat_minor": 2
}
