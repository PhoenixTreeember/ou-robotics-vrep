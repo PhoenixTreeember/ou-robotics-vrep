{
 "cells": [
  {
   "cell_type": "markdown",
   "metadata": {},
   "source": [
    "# Getting Started With Baxter\n",
    "\n",
    "This notebook demonstrates the simple control of a Baxter robot in the VREP simulator.\n",
    "\n",
    "Examples include:\n",
    "\n",
    "- reporting joint angles;\n",
    "- setting joint angles explicitly;\n",
    "- grabbing a camera snapshot from the end of arm cameras;\n",
    "- retrieving the ultrasound sensor values."
   ]
  },
  {
   "cell_type": "markdown",
   "metadata": {},
   "source": [
    "## Set-Up\n",
    "\n",
    "Import packages to control the simulator and enable widget controls in the notebook."
   ]
  },
  {
   "cell_type": "code",
   "execution_count": 1,
   "metadata": {},
   "outputs": [],
   "source": [
    "from ipywidgets import interact, interact_manual\n",
    "import ipywidgets\n",
    "\n",
    "from matplotlib import pyplot as plt\n",
    "%matplotlib inline\n",
    "\n",
    "import cv2\n",
    "import numpy as np\n",
    "\n",
    "import math"
   ]
  },
  {
   "cell_type": "code",
   "execution_count": 2,
   "metadata": {},
   "outputs": [],
   "source": [
    "%run 'Set-up.ipynb'\n",
    "%run 'Loading scenes.ipynb'\n"
   ]
  },
  {
   "cell_type": "markdown",
   "metadata": {},
   "source": [
    "Load in the desired scene, in this case, containing an instance of the Baxter robot."
   ]
  },
  {
   "cell_type": "code",
   "execution_count": 3,
   "metadata": {},
   "outputs": [],
   "source": [
    "loadSceneRelativeToClient('../scenes/Baxter_demo.ttt')"
   ]
  },
  {
   "cell_type": "code",
   "execution_count": 4,
   "metadata": {},
   "outputs": [],
   "source": [
    "from pyrep.vrep.vrep import simxGetObjectOrientation, simxGetObjectHandle, simxGetFloatSignal\n"
   ]
  },
  {
   "cell_type": "code",
   "execution_count": 12,
   "metadata": {},
   "outputs": [
    {
     "name": "stdout",
     "output_type": "stream",
     "text": [
      "Loading class: Baxter_base\n",
      "This is a base class for the Baxter_base model\n",
      "\n"
     ]
    }
   ],
   "source": [
    "rclass='Baxter_base'\n",
    "print('Loading class: {}'.format(rclass))\n",
    "class Baxter_base:\n",
    "\n",
    "    def __init__(self, api: VRep):\n",
    "        self._api = api\n",
    "        self._joint1 = api.joint.with_position_control(\"Baxter_leftArm_joint4\")\n",
    "        #self._sensor_ultrasonic_left = api.sensor.proximity(\"Pioneer_p3dx_ultrasonicSensor3\")\n",
    "        #self._sensor_ultrasonic_right = api.sensor.proximity(\"Pioneer_p3dx_ultrasonicSensor6\")\n",
    "       \n",
    "        res, self._handle = simxGetObjectHandle(self.id, 'Baxter', vrep.simx_opmode_oneshot_wait)\n",
    "        \n",
    "        self.joints= self._joints()\n",
    "        self.sensors= self._joints()\n",
    "        self.handles = self._introspect()\n",
    "        self.names_by_handles = {self.handles[k]:k for k in self.handles}\n",
    "\n",
    "    def _get_handle(self,name):\n",
    "        res, handle=vrep.simxGetObjectHandle(self.id,\n",
    "                                             name,\n",
    "                                             vrep.simx_opmode_blocking)\n",
    "        return handle\n",
    "    \n",
    "    def _introspect(self):\n",
    "        #http://galvanicloop.com/blog/post/7/quadruped-robot-5-simulation-on-v-rep\n",
    "        errorCode, handles, intData, \\\n",
    "        floatData, array = vrep.simxGetObjectGroupData(self.id,\n",
    "                                                       vrep.sim_appobj_object_type,\n",
    "                                                       0,\n",
    "                                                       vrep.simx_opmode_oneshot_wait)\n",
    "        return dict(zip(array, handles))\n",
    "    \n",
    "    def _joints(self):\n",
    "        j = self._introspect()\n",
    "        #Add arm joints\n",
    "        joints={k: j[k] for k in j if 'joint' in k}\n",
    "        #Add monitor joint\n",
    "        joints['Baxter_monitorJoint']=j['Baxter_monitorJoint']\n",
    "        return joints\n",
    "    \n",
    "    def _sensors(self):\n",
    "        s = self._introspect()\n",
    "        return {k: j[k] for k in s if 'ensor' in k}\n",
    "    \n",
    "    def get_joint_angle(self,jointname, degrees=False):\n",
    "        handle=self.joints[jointname]\n",
    "        res, pos = vrep.simxGetJointPosition(self.id,\n",
    "                                                 handle,\n",
    "                                                 vrep.simx_opmode_blocking)\n",
    "        if degrees:\n",
    "            pos = pos * 180 / math.pi\n",
    "        return pos\n",
    "        \n",
    "    def joint_angles(self, degrees=False):\n",
    "        ja = {}\n",
    "        for j in sorted(self.joints):\n",
    "            pos = self.get_joint_angle(j,degrees=degrees)\n",
    "            ja[j] = pos\n",
    "        return ja\n",
    "    \n",
    "'''\n",
    "    def get_orientation(self):\n",
    "        #http://www.coppeliarobotics.com/helpFiles/en/remoteApiFunctions.htm#simxGetObjectOrientation\n",
    "        #Returns a value between +/-pi\n",
    "        return simxGetObjectOrientation(self.id, self._handle, -1, v.simx_opmode_streaming)[1]\n",
    "'''\n",
    "        \n",
    "print('This is a base class for the {} model\\n'.format(eval(rclass).__name__ ))\n"
   ]
  },
  {
   "cell_type": "code",
   "execution_count": 46,
   "metadata": {},
   "outputs": [
    {
     "name": "stdout",
     "output_type": "stream",
     "text": [
      "Loading class: Baxter\n",
      "Methods available in Baxter:\n",
      "\tget_coords_left_tip\n",
      "\tget_coords_right_tip\n",
      "\tget_joint_angle\n",
      "\tget_ultrasonic_sensor_reading\n",
      "\tget_vision_sensor_image\n",
      "\tjoint_angles\n",
      "\tset_joint_angle\n",
      "\n"
     ]
    }
   ],
   "source": [
    "rclass='Baxter'\n",
    "print('Loading class: {}'.format(rclass))\n",
    "class Baxter(Baxter_base):\n",
    "\n",
    "    def __init__(self, api: VRep):\n",
    "        self._api = api\n",
    "        self.id = api._id\n",
    "        \n",
    "        tmp1,tmp2=self.get_coords_left_tip(True),self.get_coords_right_tip(True)\n",
    "        \n",
    "        #Inherit init settings from parent class\n",
    "        super(Baxter, self).__init__(api)\n",
    "\n",
    "    def set_joint_angle(self, joint_name, angle):\n",
    "        ''' Set the joint angle of a joint referred to by joint name '''\n",
    "        #The joint angle is set by reference to the joint handle\n",
    "        #Look-up the joint handle from the joint name\n",
    "        handle=self.joints[joint_name]\n",
    "        #res,handle = vrep.simxGetObjectHandle(self.id,'Baxter_rightArm_joint4',vrep.simx_opmode_oneshot_wait); \n",
    "        #Set the joint angle\n",
    "        vrep.simxSetJointTargetPosition(self.id,\n",
    "                                        handle,\n",
    "                                        angle,\n",
    "                                        vrep.simx_opmode_oneshot);\n",
    "        \n",
    "    def _get_coords_tip(self,arm,init=False):\n",
    "        #simx_opmode_streaming (the first call) thence simx_opmode_buffer\n",
    "        handle=self._get_handle('Baxter_{}Arm_tip'.format(arm))\n",
    "        \n",
    "        if init: mode= vrep.simx_opmode_buffer\n",
    "        else: mode =vrep.simx_opmode_streaming\n",
    "            \n",
    "        res,pos=vrep.simxGetObjectPosition(self.id,handle,\n",
    "                                           -1, mode)\n",
    "        return pos\n",
    "\n",
    "    def get_coords_left_tip(self, init=False):\n",
    "        return self._get_coords_tip('left', init)\n",
    "    \n",
    "    def get_coords_right_tip(self,init=False):\n",
    "        return self._get_coords_tip('right', init)\n",
    "    \n",
    "    def get_vision_sensor_image(self, vision_sensor_name):\n",
    "        #http://www.forum.coppeliarobotics.com/viewtopic.php?f=9&t=7012&p=27786\n",
    "\n",
    "        res, v1 = vrep.simxGetObjectHandle(self.id, vision_sensor_name, vrep.simx_opmode_oneshot_wait)\n",
    "        err, resolution, image = vrep.simxGetVisionSensorImage(self.id, v1, 0, vrep.simx_opmode_streaming)\n",
    "        img=None\n",
    "        while err!=vrep.simx_return_ok:#(vrep.simxGetConnectionId(clientID) != -1):\n",
    "            err, resolution, image = vrep.simxGetVisionSensorImage(self.id, v1, 0, vrep.simx_opmode_buffer)\n",
    "            if err == vrep.simx_return_ok:\n",
    "                #print(\"image OK!!!\")\n",
    "                img = np.array(image,dtype=np.uint8)\n",
    "                #\n",
    "                img.resize([resolution[1],resolution[0],3])\n",
    "                #For some reason the image is upside down unless we flip it?\n",
    "                img = cv2.flip(img,0)\n",
    "                ok=False\n",
    "            elif err == vrep.simx_return_novalue_flag:\n",
    "                #print(\"no image yet\")\n",
    "                pass\n",
    "            else:\n",
    "                print(err)\n",
    "        return img\n",
    "    \n",
    "    def get_ultrasonic_sensor_reading(self, ultrasonic_sensor_number):\n",
    "        if '{}'.format(ultrasonic_sensor_number).isdigit() and int(ultrasonic_sensor_number) > 0 and int(ultrasonic_sensor_number)<13: \n",
    "            ultrasonic_sensor_number=int(ultrasonic_sensor_number)\n",
    "        else: return \"Not a valid input: expecting int in range 1..12\"\n",
    "        handle = self._get_handle('Baxter_ultrasonic_sensor{}'.format(ultrasonic_sensor_number))\n",
    "        err, detectionState,detectedPoint,detectedObjectHandle,detectedSurfaceNormalVector=vrep.simxReadProximitySensor(self.id,handle,vrep.simx_opmode_streaming)\n",
    "        while err!=vrep.simx_return_ok:\n",
    "            err, detectionState,detectedPoint,detectedObjectHandle,detectedSurfaceNormalVector=vrep.simxReadProximitySensor(self.id,handle,vrep.simx_opmode_buffer)\n",
    "        if not detectionState:\n",
    "            return False\n",
    "        distance=math.sqrt(detectedPoint[0]*detectedPoint[0]+detectedPoint[1]*detectedPoint[1]+detectedPoint[2]*detectedPoint[2])\n",
    "        return distance, self.names_by_handles[detectedObjectHandle], detectedPoint, detectedSurfaceNormalVector\n",
    "\n",
    "methods = [method for method in dir(eval(rclass)) if not method.startswith('_')]\n",
    "print('Methods available in {}:\\n\\t{}\\n'.format(eval(rclass).__name__ , '\\n\\t'.join(methods)))        \n"
   ]
  },
  {
   "cell_type": "markdown",
   "metadata": {},
   "source": [
    "## Cameras\n",
    "\n",
    "The Baxter has 3 cameras:\n",
    "\n",
    "- a camera on the end of each arm;\n",
    "- a camera in the monitor; if enabled (`headCameraOn=true` in the non-threaded child script), the view from the monitor camera is displayed in the monitor. *(I'm not sure how to edit the screen or how the camera view is attached to it?)*\n",
    "\n",
    "To enable the arm cameras, enable the non-threaded script and in the script switch the desired cameras on:\n",
    "\n",
    "- `local headCameraOn=false`\n",
    "- `local rightHandSensorsOn=true`\n",
    "- `local leftHandSensorsOn=true`"
   ]
  },
  {
   "cell_type": "markdown",
   "metadata": {},
   "source": [
    "## Ultrasound sensor\n",
    "\n",
    "To enable the ultrasound sensors placed around the head, enable the non-threaded script and in the script, enable the head sensor:\n",
    "\n",
    "- `local headSensorOn=true`"
   ]
  },
  {
   "cell_type": "markdown",
   "metadata": {},
   "source": [
    "## Controlling the Robot"
   ]
  },
  {
   "cell_type": "markdown",
   "metadata": {},
   "source": [
    "To begin with, ensure that no simulation is currently running, then create a Python object that maps on to the simulated Baxter robot."
   ]
  },
  {
   "cell_type": "code",
   "execution_count": 48,
   "metadata": {},
   "outputs": [],
   "source": [
    "from pyrep import VRep\n",
    "from pyrep.vrep import vrep as vrep\n",
    "\n",
    "#Ensure there are no outstanding simulations running\n",
    "vrep.simxFinish(-1)\n",
    "\n",
    "#Open  connection to the simulator\n",
    "api=VRep.connect(\"127.0.0.1\", 19997)"
   ]
  },
  {
   "cell_type": "code",
   "execution_count": 49,
   "metadata": {},
   "outputs": [],
   "source": [
    "#Start the simulation\n",
    "api.simulation.start()\n",
    "\n",
    "#Create a Python object to represent the simulated robot\n",
    "r = Baxter(api)"
   ]
  },
  {
   "cell_type": "markdown",
   "metadata": {},
   "source": [
    "### Grab a Snapshot from the Cameras\n",
    "\n",
    "The Baxter robot has three cameras, one at the end of each arm and one mounted in the monitor (face).\n",
    "\n",
    "By default, the arm cameras are enabled in the model we will use, and the head/monitor camera is disabled.\n",
    "\n",
    "We can grab a snapshot from a camera and display it in the notebook."
   ]
  },
  {
   "cell_type": "code",
   "execution_count": 50,
   "metadata": {},
   "outputs": [
    {
     "data": {
      "image/png": "[encoded data removed]",
      "text/plain": [
       "<matplotlib.figure.Figure at 0x114f9c898>"
      ]
     },
     "metadata": {},
     "output_type": "display_data"
    }
   ],
   "source": [
    "plt.imshow( r.get_vision_sensor_image('Baxter_rightArm_camera') );"
   ]
  },
  {
   "cell_type": "code",
   "execution_count": 109,
   "metadata": {},
   "outputs": [
    {
     "data": {
      "image/png": "[encoded data removed]",
      "text/plain": [
       "<matplotlib.figure.Figure at 0x113d63dd8>"
      ]
     },
     "metadata": {},
     "output_type": "display_data"
    }
   ],
   "source": [
    "plt.imshow( r.get_vision_sensor_image('Baxter_leftArm_camera') );"
   ]
  },
  {
   "cell_type": "markdown",
   "metadata": {},
   "source": [
    "## Controlling Baxter's Joints\n",
    "\n",
    "The Baxter robot (without manipulators attached) has 7 degrees of freedom on each arm and one degree of freedom on its head, which allows it to turn the monitor from side to side."
   ]
  },
  {
   "cell_type": "markdown",
   "metadata": {},
   "source": [
    "![](../images/V-REP_PRO_EDU_-_baxter_joints.png)"
   ]
  },
  {
   "cell_type": "markdown",
   "metadata": {},
   "source": [
    "We can get get the joint angles back in radians:"
   ]
  },
  {
   "cell_type": "code",
   "execution_count": 68,
   "metadata": {},
   "outputs": [
    {
     "data": {
      "text/plain": [
       "{'Baxter_leftArm_joint1': 0.0,\n",
       " 'Baxter_leftArm_joint2': 0.00028061866760253906,\n",
       " 'Baxter_leftArm_joint3': -4.76837158203125e-07,\n",
       " 'Baxter_leftArm_joint4': 0.00012636184692382812,\n",
       " 'Baxter_leftArm_joint5': -7.152557373046875e-07,\n",
       " 'Baxter_leftArm_joint6': 6.437301635742188e-05,\n",
       " 'Baxter_leftArm_joint7': 0.0,\n",
       " 'Baxter_monitorJoint': 0.0,\n",
       " 'Baxter_rightArm_joint1': 9.5367431640625e-07,\n",
       " 'Baxter_rightArm_joint2': 0.00014925003051757812,\n",
       " 'Baxter_rightArm_joint3': 2.384185791015625e-07,\n",
       " 'Baxter_rightArm_joint4': -4.76837158203125e-07,\n",
       " 'Baxter_rightArm_joint5': 9.5367431640625e-07,\n",
       " 'Baxter_rightArm_joint6': -4.76837158203125e-07,\n",
       " 'Baxter_rightArm_joint7': 0.0}"
      ]
     },
     "execution_count": 68,
     "metadata": {},
     "output_type": "execute_result"
    }
   ],
   "source": [
    "r.joint_angles()"
   ]
  },
  {
   "cell_type": "code",
   "execution_count": 69,
   "metadata": {},
   "outputs": [
    {
     "data": {
      "text/plain": [
       "{'Baxter_leftArm_joint1': 0.0,\n",
       " 'Baxter_leftArm_joint2': 0.016078265306210017,\n",
       " 'Baxter_leftArm_joint3': -2.7320756680051004e-05,\n",
       " 'Baxter_leftArm_joint4': 0.007171698628513389,\n",
       " 'Baxter_leftArm_joint5': 1.3660378340025502e-05,\n",
       " 'Baxter_leftArm_joint6': 0.0036883021518068857,\n",
       " 'Baxter_leftArm_joint7': 0.0,\n",
       " 'Baxter_monitorJoint': 0.0,\n",
       " 'Baxter_rightArm_joint1': 5.464151336010201e-05,\n",
       " 'Baxter_rightArm_joint2': 0.008551396840855964,\n",
       " 'Baxter_rightArm_joint3': 1.3660378340025502e-05,\n",
       " 'Baxter_rightArm_joint4': -4.0981135020076506e-05,\n",
       " 'Baxter_rightArm_joint5': 5.464151336010201e-05,\n",
       " 'Baxter_rightArm_joint6': 0.0,\n",
       " 'Baxter_rightArm_joint7': 0.0}"
      ]
     },
     "execution_count": 69,
     "metadata": {},
     "output_type": "execute_result"
    }
   ],
   "source": [
    "r.joint_angles(degrees=True)"
   ]
  },
  {
   "cell_type": "markdown",
   "metadata": {},
   "source": [
    "The joint angles in the model can be set with reference to the joint angle name. \n",
    "\n",
    "Create a simple test to allow us to check that joint selection and control works. The command will only be issued when the *Run Interact* button is pressed."
   ]
  },
  {
   "cell_type": "code",
   "execution_count": 60,
   "metadata": {},
   "outputs": [
    {
     "data": {
      "application/vnd.jupyter.widget-view+json": {
       "model_id": "4f47b85013764899a1577abebda28d38",
       "version_major": 2,
       "version_minor": 0
      },
      "text/plain": [
       "A Jupyter Widget"
      ]
     },
     "metadata": {},
     "output_type": "display_data"
    }
   ],
   "source": [
    "def f(j, x):\n",
    "    r.set_joint_angle(j,x)\n",
    "    \n",
    "interact_manual(f, j=['Baxter_leftArm_joint1',\n",
    "                      'Baxter_leftArm_joint2',\n",
    "                      'Baxter_monitorJoint'],\n",
    "                x=(-2,2,0.2));"
   ]
  },
  {
   "cell_type": "markdown",
   "metadata": {},
   "source": [
    "We can iterate through the joint names to create a widget for each one:"
   ]
  },
  {
   "cell_type": "code",
   "execution_count": null,
   "metadata": {},
   "outputs": [],
   "source": [
    "posDisplay = ipywidgets.Text()\n",
    "\n",
    "\n",
    "\n",
    "for j in r.joints:\n",
    "    exec(\"\"\"\n",
    "def {j}({js}):\n",
    "    r.set_joint_angle('{j}',{js})\n",
    "    posDisplay.value=','.join([str(x) for x in r.get_coords_left_tip()])+ ','.join([str(x) for x in r.get_coords_right_tip()])\n",
    "interact({j}, {js}=(-3.5,3.5,0.2))\n",
    "\"\"\".format(j=j, js='_'.join(j.split('_')[1:]).replace('Arm_joint','')))\n",
    "posDisplay"
   ]
  },
  {
   "cell_type": "code",
   "execution_count": 48,
   "metadata": {},
   "outputs": [
    {
     "data": {
      "text/plain": [
       "'-2.979215383529663,1.7465461492538452,1.2629362344741821-2.6313071250915527,0.21917463839054108,0.6749176979064941'"
      ]
     },
     "execution_count": 48,
     "metadata": {},
     "output_type": "execute_result"
    }
   ],
   "source": [
    "','.join([str(x) for x in r.get_coords_left_tip()])+ ','.join([str(x) for x in r.get_coords_right_tip()])"
   ]
  },
  {
   "cell_type": "code",
   "execution_count": 287,
   "metadata": {},
   "outputs": [
    {
     "data": {
      "text/plain": [
       "([-1.562764286994934, 1.683702826499939, 1.1301542520523071],\n",
       " [-1.4352781772613525, -0.1563175916671753, 1.3918207883834839])"
      ]
     },
     "execution_count": 287,
     "metadata": {},
     "output_type": "execute_result"
    }
   ],
   "source": [
    "r.get_coords_left_tip(), r.get_coords_right_tip()"
   ]
  },
  {
   "cell_type": "markdown",
   "metadata": {},
   "source": [
    "### Find Joint Angle Range\n",
    "\n",
    "We need to put some of the prior joints into a position that allows maximum freedom for later joints. eg Joint4 benefits from Joint2 being angled back."
   ]
  },
  {
   "cell_type": "code",
   "execution_count": 180,
   "metadata": {},
   "outputs": [
    {
     "name": "stdout",
     "output_type": "stream",
     "text": [
      "Looking for max Baxter_rightArm_joint1...\n",
      "Looking for min Baxter_rightArm_joint1...\n",
      "Looking for max Baxter_rightArm_joint2...\n",
      "Looking for min Baxter_rightArm_joint2...\n",
      "Looking for max Baxter_rightArm_joint3...\n",
      "Looking for min Baxter_rightArm_joint3...\n",
      "Looking for max Baxter_rightArm_joint4...\n",
      "Looking for min Baxter_rightArm_joint4...\n",
      "Looking for max Baxter_rightArm_joint5...\n",
      "Looking for min Baxter_rightArm_joint5...\n",
      "Looking for max Baxter_rightArm_joint6...\n",
      "Looking for min Baxter_rightArm_joint6...\n",
      "Looking for max Baxter_rightArm_joint7...\n",
      "Looking for min Baxter_rightArm_joint7...\n",
      "Looking for max Baxter_leftArm_joint1...\n",
      "Looking for min Baxter_leftArm_joint1...\n",
      "Looking for max Baxter_leftArm_joint2...\n",
      "Looking for min Baxter_leftArm_joint2...\n",
      "Looking for max Baxter_leftArm_joint3...\n",
      "Looking for min Baxter_leftArm_joint3...\n",
      "Looking for max Baxter_leftArm_joint4...\n",
      "Looking for min Baxter_leftArm_joint4...\n",
      "Looking for max Baxter_leftArm_joint5...\n",
      "Looking for min Baxter_leftArm_joint5...\n",
      "Looking for max Baxter_leftArm_joint6...\n",
      "Looking for min Baxter_leftArm_joint6...\n",
      "Looking for max Baxter_leftArm_joint7...\n",
      "Looking for min Baxter_leftArm_joint7...\n",
      "Looking for max Baxter_monitorJoint...\n",
      "Looking for min Baxter_monitorJoint...\n"
     ]
    }
   ],
   "source": [
    "joints_range={}\n",
    "for j in r.joints:\n",
    "    r.set_joint_angle(j,0)\n",
    "    \n",
    "for j in r.joints:\n",
    "    joint_min=999\n",
    "    joint_max=-999\n",
    "    joint_curr=0\n",
    "    print('Looking for max {}...'.format(j))\n",
    "    r.set_joint_angle(j,0)\n",
    "    if j.endswith('joint4'):\n",
    "        r.set_joint_angle(j.replace('4','2'),-1)\n",
    "    while True:\n",
    "        joint_curr=r.get_joint_angle(j,True)\n",
    "        if joint_curr>joint_max:\n",
    "            joint_max=joint_curr\n",
    "            r.set_joint_angle(j,joint_curr+0.1)\n",
    "            time.sleep(0.1)\n",
    "        else:\n",
    "            r.set_joint_angle(j,0)\n",
    "            break\n",
    "    print('Looking for min {}...'.format(j))\n",
    "    while True:\n",
    "        joint_curr=r.get_joint_angle(j,True)\n",
    "        if joint_curr<joint_min:\n",
    "            joint_min=joint_curr\n",
    "            r.set_joint_angle(j,joint_curr-0.1)\n",
    "            time.sleep(0.1)\n",
    "        else:\n",
    "            r.set_joint_angle(j,0)\n",
    "            break\n",
    "    joints_range[j]=(joint_min,joint_max)"
   ]
  },
  {
   "cell_type": "code",
   "execution_count": 181,
   "metadata": {},
   "outputs": [
    {
     "data": {
      "text/plain": [
       "{'Baxter_leftArm_joint1': (-1.6980311870574951, 1.7053349018096924),\n",
       " 'Baxter_leftArm_joint2': (-2.147843599319458, 1.0465214252471924),\n",
       " 'Baxter_leftArm_joint3': (-3.05545711517334, 3.0528998374938965),\n",
       " 'Baxter_leftArm_joint4': (-0.04999184608459473, 2.6179652214050293),\n",
       " 'Baxter_leftArm_joint5': (-3.0589990615844727, 3.059000253677368),\n",
       " 'Baxter_leftArm_joint6': (-1.5753512382507324, 2.089462995529175),\n",
       " 'Baxter_leftArm_joint7': (-3.0691978931427, 3.0487866401672363),\n",
       " 'Baxter_monitorJoint': (-1.5717580318450928, 1.569875955581665),\n",
       " 'Baxter_rightArm_joint1': (-1.6986820697784424, 1.6308674812316895),\n",
       " 'Baxter_rightArm_joint2': (-2.1467416286468506, 1.0474610328674316),\n",
       " 'Baxter_rightArm_joint3': (-3.0534327030181885, 3.0549230575561523),\n",
       " 'Baxter_rightArm_joint4': (-0.05036044120788574, 2.6176369190216064),\n",
       " 'Baxter_rightArm_joint5': (-3.058709144592285, 3.059293270111084),\n",
       " 'Baxter_rightArm_joint6': (-1.5675172805786133, 2.097275733947754),\n",
       " 'Baxter_rightArm_joint7': (-3.06885027885437, 3.0491440296173096)}"
      ]
     },
     "execution_count": 181,
     "metadata": {},
     "output_type": "execute_result"
    }
   ],
   "source": [
    "joints_range"
   ]
  },
  {
   "cell_type": "markdown",
   "metadata": {},
   "source": [
    "### Activity\n",
    "\n",
    "Use the above sliders to try to move the end effector to a range of different target positions."
   ]
  },
  {
   "cell_type": "code",
   "execution_count": 183,
   "metadata": {},
   "outputs": [
    {
     "name": "stdout",
     "output_type": "stream",
     "text": [
      "Baxter_rightArm_joint1: (-97.32731333285196, 93.44182361970681)\n",
      "Baxter_rightArm_joint2: (-122.9992350265052, 60.01509638771784)\n",
      "Baxter_rightArm_joint3: (-174.9488069101651, 175.0341979351686)\n",
      "Baxter_rightArm_joint4: (-2.8854407356285665, 149.97954775756608)\n",
      "Baxter_rightArm_joint5: (-175.2511247432082, 175.28459267014128)\n",
      "Baxter_rightArm_joint6: (-89.81212449097863, 120.16504803040841)\n",
      "Baxter_rightArm_joint7: (-175.8321689359012, 174.70308402458474)\n",
      "Baxter_leftArm_joint1: (-97.29002049998368, 97.70849253005203)\n",
      "Baxter_leftArm_joint2: (-123.0623732951928, 59.9612608366798)\n",
      "Baxter_leftArm_joint3: (-175.06479718265027, 174.91827596457514)\n",
      "Baxter_leftArm_joint4: (-2.8643217907148872, 149.9983580985403)\n",
      "Baxter_leftArm_joint5: (-175.26773576326968, 175.26780406516139)\n",
      "Baxter_leftArm_joint6: (-90.26097720247519, 119.71741109258411)\n",
      "Baxter_leftArm_joint7: (-175.85208576752095, 174.68260711745302)\n",
      "Baxter_monitorJoint: (-90.05510164051266, 89.9472666138965)\n"
     ]
    }
   ],
   "source": [
    "for j in joints_range:\n",
    "    min_joint,max_joint=joints_range[j]\n",
    "    print('{}: ({}, {})'.format(j, min_joint * 180 / math.pi,\n",
    "                       max_joint * 180 / math.pi))"
   ]
  },
  {
   "cell_type": "markdown",
   "metadata": {},
   "source": [
    "## Ultrasound Sensors\n",
    "\n",
    "There are 12 ultrasound sensors mounted on the head of the Baxter robot, numbered 1 to 12; sensor 1 is in the front of Baxtr's head pointing forward, and the other sensors are number counting clockwise: sensor 4 is above Baxter's right \"ear\", sensor 7 in the center of the back of its head, sensor 10 above its left \"ear\".\n",
    "\n",
    "A convenience function is defined that returns:\n",
    "\n",
    "- `False` if nothing is detected;\n",
    "- the Cartesian distance to the detected object in meters\n",
    "- the name of the detected object\n",
    "- the relative co-ords (`[x,y,z]`) of the detected object\n",
    "- the normal vector to the detected object"
   ]
  },
  {
   "cell_type": "code",
   "execution_count": 54,
   "metadata": {},
   "outputs": [
    {
     "data": {
      "text/plain": [
       "(0.6424231500656177,\n",
       " 'Baxter_rightArm_link4_visible',\n",
       " [3.259629011154175e-08, -0.1662713587284088, 0.6205331087112427],\n",
       " [0.15524740517139435, 0.9413827657699585, -0.29949435591697693])"
      ]
     },
     "execution_count": 54,
     "metadata": {},
     "output_type": "execute_result"
    }
   ],
   "source": [
    "r.get_ultrasonic_sensor_reading(3)"
   ]
  },
  {
   "cell_type": "markdown",
   "metadata": {},
   "source": [
    "## Stop the Simulation and Close the Simulator Connection"
   ]
  },
  {
   "cell_type": "code",
   "execution_count": 55,
   "metadata": {},
   "outputs": [],
   "source": [
    "#Stop the simulation\n",
    "api.simulation.stop()\n",
    "\n",
    "#Close the scene\n",
    "vrep.simxCloseScene(api.simulation._id,vrep.simx_opmode_blocking)\n",
    "\n",
    "#Close the connection to the simulator\n",
    "api.close_connection()"
   ]
  },
  {
   "cell_type": "markdown",
   "metadata": {},
   "source": [
    "## Possible things to do...\n",
    "\n",
    "If you add an object to the scene - eg a chair - and move it around, you should see that the ultrasound detectors are able to detect it."
   ]
  },
  {
   "cell_type": "code",
   "execution_count": null,
   "metadata": {},
   "outputs": [],
   "source": []
  }
 ],
 "metadata": {
  "kernelspec": {
   "display_name": "Python 3",
   "language": "python",
   "name": "python3"
  },
  "language_info": {
   "codemirror_mode": {
    "name": "ipython",
    "version": 3
   },
   "file_extension": ".py",
   "mimetype": "text/x-python",
   "name": "python",
   "nbconvert_exporter": "python",
   "pygments_lexer": "ipython3",
   "version": "3.6.1"
  }
 },
 "nbformat": 4,
 "nbformat_minor": 2
}
