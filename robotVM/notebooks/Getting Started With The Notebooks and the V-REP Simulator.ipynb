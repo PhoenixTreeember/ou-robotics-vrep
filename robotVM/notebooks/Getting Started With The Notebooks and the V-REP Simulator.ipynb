{
 "cells": [
  {
   "cell_type": "markdown",
   "metadata": {},
   "source": [
    "# Getting Started With Notebooks and the V-REP Simulator\n"
   ]
  },
  {
   "cell_type": "markdown",
   "metadata": {},
   "source": [
    "The [Coppelia Robotics](http://www.coppeliarobotics.com/) V-REP simulator is a fully featured three dimensional simulator for a wide range of robot models.\n",
    "\n",
    "As well as providing an integrated development environment that supports scripting of robot programs, the simulator offers an API A(*a*application *p*rogramming *i*nterface) that allows the simulated robots to be controlled from a remote script, such as a script executed via a Jupyter notebook."
   ]
  },
  {
   "cell_type": "markdown",
   "metadata": {},
   "source": [
    "The robots that appear in the simulator all have real world counterparts. In this course, you will have an opportunity to work with several simulated robots, including:\n",
    "\n",
    "- a *Pioneer3DX* research robot;\n",
    "- a simple *LineTracer& robot;\n",
    "- a *Lego EV3* robot."
   ]
  },
  {
   "cell_type": "markdown",
   "metadata": {},
   "source": [
    "## Working With the Simulator\n",
    "\n",
    "To start programming the robots, you need to ensure that two applications are running on your computer:\n",
    "\n",
    "- Jupyter notebooks\n",
    "- the V-REP simulator\n",
    "\n",
    "To simplify things, we have created some IPython magic (really! That's what it's called...) that allows you to connect to the V-REP simulator from a notebook code cell. A robot inside a simulator scene can then be controlled directly from Python code run in the code cell.\n",
    "\n",
    "To connect to the simulator, first ensure that the simulator application is running.\n",
    "\n",
    "In the notebook, load in and run the generic initialisation scripts in a code cell:\n",
    "\n",
    "```\n",
    "%run 'Set-up.ipynb'\n",
    "%run 'Loading scenes.ipynb'\n",
    "```\n",
    "\n",
    "Load in an run an appropriate robot class definition file:\n",
    "\n",
    "```\n",
    "%run 'vrep_models/ROBOT_MODEL.ipynb'\n",
    "```\n",
    "\n",
    "The following have been defined:\n",
    "\n",
    "\n",
    "| Robot Class | Robot definition file |\n",
    "|---|---|\n",
    "| `lineTracer`  |`vrep_models/lineTracer.ipynb` |\n",
    "|  `PioneerP3DX` | `vrep_models/PioneerP3DX.ipynb` |\n",
    "\n",
    "You can then open a scene in the simulator and connect to it using cell magic of the form:\n",
    "\n",
    "`%%vrepsim 'PATH/TO/SCENE.ttt' RobotClass`\n",
    "\n",
    "The magic cell magic then works as follows:\n",
    "\n",
    "- connect to the simulator\n",
    "- load the specified scene; the scene should include a simulated robot of a kind that matches the specified robot class\n",
    "- create a python object called `robot` that instantiates a class corresponding to `RobotClass`; an object corresponding to that robot class should exist inside the scene\n",
    "- run the code in the cell\n",
    "\n",
    "The following scenes and robot classes have been defined:\n",
    "\n",
    "\n",
    "| Notebook  | Scene  | Robot Class |\n",
    "|---|---|---|---|\n",
    "| `Demo - linetracer.ipynb`  |  `OU_grey lines.ttt` | `lineTracer`  |\n",
    "|  `Demo - square 1.ipynb` | `OU_Pioneer.ttt` | `PioneerP3DX` |\n"
   ]
  },
  {
   "cell_type": "markdown",
   "metadata": {},
   "source": [
    "For example, the following cell loads in the initialisation scripts:"
   ]
  },
  {
   "cell_type": "code",
   "execution_count": 1,
   "metadata": {},
   "outputs": [],
   "source": [
    "%run 'Set-up.ipynb'\n",
    "%run 'Loading scenes.ipynb'"
   ]
  },
  {
   "cell_type": "markdown",
   "metadata": {},
   "source": [
    "Load in a robot definition file appropriate to the scene you intend to load - when it loads it will give you a preview of the robot classes that have been loaded in and the methods defined on them."
   ]
  },
  {
   "cell_type": "code",
   "execution_count": 2,
   "metadata": {},
   "outputs": [
    {
     "name": "stdout",
     "output_type": "stream",
     "text": [
      "Loading class: PioneerP3DX_base\n",
      "This is a base class for the PioneerP3DX_base model\n",
      "\n",
      "Loading class: PioneerP3DX\n",
      "Methods available in PioneerP3DX:\n",
      "\tget_orientation\n",
      "\tget_orientation_degrees\n",
      "\tgetvalleft\n",
      "\tgetvalright\n",
      "\tmove_backward\n",
      "\tmove_forward\n",
      "\trotate_left\n",
      "\trotate_right\n",
      "\tset_two_motor\n",
      "\tultrasonic_left_length\n",
      "\tultrasonic_right_length\n",
      "\n",
      "Loading class: PioneerP3DXL\n",
      "Methods available in PioneerP3DXL:\n",
      "\tcolor_left\n",
      "\tcolor_right\n",
      "\tget_orientation\n",
      "\tmove_backward\n",
      "\tmove_forward\n",
      "\trotate_left\n",
      "\trotate_right\n",
      "\tset_two_motor\n",
      "\tultrasonic_left_length\n",
      "\tultrasonic_right_length\n",
      "\n",
      "The following text widgets are available for display: sensorText1, sensorText2\n"
     ]
    }
   ],
   "source": [
    "%run 'vrep_models/PioneerP3DX.ipynb'"
   ]
  },
  {
   "cell_type": "markdown",
   "metadata": {},
   "source": [
    "The following cell connects to the simulator, loads the `OU_Pioneer.ttt` scene, and connects to the `PioneerP3DX` object that is preloaded inside the scene. The `robot` object is created automatically and can be called by the code running in the cell.\n",
    "\n",
    "Run the cell and watch what happens to robot in the simulator."
   ]
  },
  {
   "cell_type": "code",
   "execution_count": 5,
   "metadata": {},
   "outputs": [],
   "source": [
    "%%vrepsim '../scenes/OU_Pioneer.ttt' PioneerP3DX\n",
    "import time\n",
    "robot.rotate_right()\n",
    "time.sleep(5)"
   ]
  },
  {
   "cell_type": "markdown",
   "metadata": {},
   "source": [
    "You can also run the magic *without* specifying a scene name. In this case, the code in the cell will run against the currently loaded, in focus scene. **TO DO - CHECK THIS** For example:\n",
    "\n",
    "```\n",
    "%%vrepsim PioneerP3DX\n",
    "```\n",
    "\n",
    "Note that you will need to ensure that a robot of the correct class is available inside the scene.\n",
    "\n",
    "Valid models can be found in the `../models` directory:"
   ]
  },
  {
   "cell_type": "code",
   "execution_count": 6,
   "metadata": {},
   "outputs": [
    {
     "name": "stdout",
     "output_type": "stream",
     "text": [
      "LEGO_EV3_GROUP.ttm LEGO_EV3_MERGE.ttm README.md\r\n"
     ]
    }
   ],
   "source": [
    "!ls ../models"
   ]
  },
  {
   "cell_type": "markdown",
   "metadata": {},
   "source": [
    "## Managing Your Screen\n",
    "\n",
    "The simulator and the notebook can each take up quite a lot of your computer screen. We suggest a screen layout something like the following:\n",
    "\n",
    "![Screen layout - notebook overlaid on V-REP simulator window](../images/vrepnotebooks-screen_layout.png)\n",
    "\n",
    "You can find a range of help files describing how to work with the actual simulator, such as changing camera views and moving the robot, in the `../howtos` directory."
   ]
  },
  {
   "cell_type": "code",
   "execution_count": 8,
   "metadata": {},
   "outputs": [
    {
     "name": "stdout",
     "output_type": "stream",
     "text": [
      "Adding_Lines_to_a_Scene.md         Pen_Down_Robot_Trajectory_Trace.md\r\n",
      "Adding_Odometry.md                 Working_With_VREP_Graph_Object.md\r\n",
      "Environment_Camera_Views.md        Working_With_a_New_Model.md\r\n",
      "Floor_resizing.md\r\n"
     ]
    }
   ],
   "source": [
    "!ls ../howtos"
   ]
  },
  {
   "cell_type": "markdown",
   "metadata": {},
   "source": [
    "## Problems With The V-REP Simulator\n",
    "\n",
    "Hopefully, you won't have any problems starting the simulator and connecting to it. If you do, here are some things to check.\n",
    "\n",
    "### Problems starting the simulator\n",
    "\n",
    "Check environment variable settings - these can be set via the `Set-up.ipynb` notebook.\n",
    "\n",
    "### Problems connecting to the simulator\n",
    "\n",
    "\n",
    "You may need to check the connection settings. You can set these from a notebook used to control a robot by setting the following variables:\n",
    "\n",
    "- `vrep_ip`: by default, this is set to `'127.0.0.1'`\n",
    "- `vrep_port`: by default, this is set to `19997`"
   ]
  }
 ],
 "metadata": {
  "kernelspec": {
   "display_name": "Python 3",
   "language": "python",
   "name": "python3"
  },
  "language_info": {
   "codemirror_mode": {
    "name": "ipython",
    "version": 3
   },
   "file_extension": ".py",
   "mimetype": "text/x-python",
   "name": "python",
   "nbconvert_exporter": "python",
   "pygments_lexer": "ipython3",
   "version": "3.6.1"
  }
 },
 "nbformat": 4,
 "nbformat_minor": 2
}
