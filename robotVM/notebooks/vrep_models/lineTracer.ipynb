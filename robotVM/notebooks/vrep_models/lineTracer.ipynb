{
 "cells": [
  {
   "cell_type": "markdown",
   "metadata": {},
   "source": [
    "# lineTracer\n",
    "\n",
    "This notebook contains configuration information and one or more class definitions for using the `lineTracer` robot.\n",
    "\n",
    "Notebooks using this model:\n",
    "\n",
    "- ..."
   ]
  },
  {
   "cell_type": "markdown",
   "metadata": {},
   "source": [
    "## Vision Sensor\n",
    "\n",
    "The vision sensor returns 15 auxiliary values defined as follows ([`simReadVisionSensor` docs](http://www.coppeliarobotics.com/helpFiles/en/regularApi/simReadVisionSensor.htm)):\n",
    "\n",
    "- the minimum of {intensity, red, green, blue, depth value}\n",
    "- the maximum of {intensity, red, green, blue, depth value}\n",
    "- the average of {intensity, red, green, blue, depth value}. \n"
   ]
  },
  {
   "cell_type": "code",
   "execution_count": null,
   "metadata": {},
   "outputs": [],
   "source": [
    "#Constants for accessing visionSensor readings\n",
    "visionSensor_intensity_min=0\n",
    "visionSensor_red_min=1\n",
    "visionSensor_green_min=2\n",
    "visionSensor_blue_min=3\n",
    "visionSensor_depth_min=4\n",
    "\n",
    "visionSensor_intensity_max=5\n",
    "visionSensor_red_max=6\n",
    "visionSensor_green_max=7\n",
    "visionSensor_blue_max=8\n",
    "visionSensor_depth_max=9\n",
    "\n",
    "visionSensor_intensity_av=10\n",
    "visionSensor_red_av=11\n",
    "visionSensor_green_av=12\n",
    "visionSensor_blue_av=13\n",
    "visionSensor_depth_av=14"
   ]
  },
  {
   "cell_type": "code",
   "execution_count": null,
   "metadata": {},
   "outputs": [],
   "source": [
    "rclass='lineTracer'\n",
    "print('Loading class: {}'.format(rclass))\n",
    "\n",
    "from pyrep.vrep.vrep import simxGetFloatSignal\n",
    "from pyrep.vrep import vrep as v\n",
    "\n",
    "class lineTracer:\n",
    "\n",
    "    def __init__(self, api: VRep):\n",
    "        self._api = api\n",
    "        self._left_motor = api.joint.with_velocity_control(\"DynamicLeftJoint\")\n",
    "        self._right_motor = api.joint.with_velocity_control(\"DynamicRightJoint\")\n",
    "        self._left_sensor = api.sensor.vision(\"LeftSensor\")\n",
    "        self._right_sensor = api.sensor.vision(\"RightSensor\")\n",
    "        self.id = api._id\n",
    "    \n",
    "    #The following function will return the total accumulated angle turned by the left wheel\n",
    "    def getval(self):\n",
    "        return simxGetFloatSignal(self.id,'leftEncoder',v.simx_opmode_streaming)#simx_opmode_streaming, simx_opmode_buffer)\n",
    "\n",
    "    #The following function will return the total accumulated rotation count of the left wheel\n",
    "    def getrots(self):\n",
    "        return simxGetFloatSignal(self.id,'leftEncoder_rots',v.simx_opmode_streaming)[1]#simx_opmode_buffer)\n",
    "\n",
    "    def set_two_motor(self, left: float, right: float):\n",
    "        self._left_motor.set_target_velocity(left)\n",
    "        self._right_motor.set_target_velocity(right)\n",
    "\n",
    "    def stop(self):\n",
    "        self.set_two_motor(0, 0)\n",
    "\n",
    "    def fwd_right(self, speed=20.0):\n",
    "        self.set_two_motor(speed, speed/2)\n",
    "\n",
    "    def fwd_left(self, speed=20.0):\n",
    "        self.set_two_motor(speed/2, speed)\n",
    "\n",
    "    def move_forward(self, speed=20.0):\n",
    "        self.set_two_motor(speed, speed)\n",
    "\n",
    "    def move_backward(self, speed=20.0):\n",
    "        self.set_two_motor(-speed, -speed)\n",
    "\n",
    "    def rotate_right(self, speed=2.0):\n",
    "        self.set_two_motor(speed, -speed)\n",
    "\n",
    "    def rotate_left(self, speed=2.0):\n",
    "        self.set_two_motor(-speed, speed)\n",
    "\n",
    "    \n",
    "    def right_line(self):\n",
    "        return self._left_sensor.read()[0]\n",
    "    \n",
    "    def left_line(self):\n",
    "        return self._left_sensor.read()[0]\n",
    "    \n",
    "    def right_light(self):\n",
    "        return self._right_sensor.read()[2][0][visionSensor_intensity_av]\n",
    "    \n",
    "    def left_light(self):\n",
    "        return self._left_sensor.read()[2][0][visionSensor_intensity_av]\n",
    "\n",
    "    def position_left_joint(self):\n",
    "        return self._left_motor.get_position()\n",
    "    \n",
    "methods = [method for method in dir(eval(rclass)) if not method.startswith('_')]\n",
    "print('Methods available in {}:\\n\\t{}\\n'.format(eval(rclass).__name__ , '\\n\\t'.join(methods)))"
   ]
  },
  {
   "cell_type": "raw",
   "metadata": {},
   "source": [
    "with VRep.connect(\"127.0.0.1\", 19997) as api:\n",
    "    r = lineTracer(api)\n",
    "    while True:\n",
    "        if r.right_line():\n",
    "            r.fwd_left()\n",
    "        if r.left_line():\n",
    "            r.fwd_right()   \n",
    "        time.sleep(0.1)\n",
    "        print(r.right_line(), r.left_line())"
   ]
  }
 ],
 "metadata": {
  "kernelspec": {
   "display_name": "Python 3",
   "language": "python",
   "name": "python3"
  },
  "language_info": {
   "codemirror_mode": {
    "name": "ipython",
    "version": 3
   },
   "file_extension": ".py",
   "mimetype": "text/x-python",
   "name": "python",
   "nbconvert_exporter": "python",
   "pygments_lexer": "ipython3",
   "version": "3.6.1"
  }
 },
 "nbformat": 4,
 "nbformat_minor": 2
}
