{
 "cells": [
  {
   "cell_type": "markdown",
   "metadata": {},
   "source": [
    "# Lego EV3\n",
    "\n",
    "Model via: https://github.com/albmardom/EV-R3P"
   ]
  },
  {
   "cell_type": "code",
   "execution_count": null,
   "metadata": {},
   "outputs": [],
   "source": [
    "class LegoEV3:\n",
    "\n",
    "    def __init__(self, api: VRep):\n",
    "        self._api = api\n",
    "        self._left_motor = api.joint.with_velocity_control(\"Motor_B\")\n",
    "        self._right_motor = api.joint.with_velocity_control(\"Motor_C\")\n",
    "        #self._left_sensor = api.sensor.proximity(\"Pioneer_p3dx_ultrasonicSensor3\")\n",
    "        #self._right_sensor = api.sensor.proximity(\"Pioneer_p3dx_ultrasonicSensor6\")\n",
    "\n",
    "    def rotate_right(self, speed=2.0):\n",
    "        self._set_two_motor(speed, -speed)\n",
    "\n",
    "    def rotate_left(self, speed=2.0):\n",
    "        self._set_two_motor(-speed, speed)\n",
    "\n",
    "    def move_forward(self, speed=2.0):\n",
    "        self._set_two_motor(speed, speed)\n",
    "\n",
    "    def move_backward(self, speed=2.0):\n",
    "        self._set_two_motor(-speed, -speed)\n",
    "\n",
    "    def _set_two_motor(self, left: float, right: float):\n",
    "        self._left_motor.set_target_velocity(left)\n",
    "        self._right_motor.set_target_velocity(right)"
   ]
  },
  {
   "cell_type": "raw",
   "metadata": {},
   "source": [
    "#test\n",
    "steps=10\n",
    "with VRep.connect(\"127.0.0.1\", 19997) as api:\n",
    "    r = LegoEV3(api)\n",
    "    while steps:\n",
    "        r.move_forward()\n",
    "        time.sleep(0.1)\n",
    "        r.rotate_right()\n",
    "        time.sleep(0.1)\n",
    "        steps=steps-1"
   ]
  }
 ],
 "metadata": {
  "kernelspec": {
   "display_name": "Python 3",
   "language": "python",
   "name": "python3"
  },
  "language_info": {
   "codemirror_mode": {
    "name": "ipython",
    "version": 3
   },
   "file_extension": ".py",
   "mimetype": "text/x-python",
   "name": "python",
   "nbconvert_exporter": "python",
   "pygments_lexer": "ipython3",
   "version": "3.6.1"
  }
 },
 "nbformat": 4,
 "nbformat_minor": 2
}
