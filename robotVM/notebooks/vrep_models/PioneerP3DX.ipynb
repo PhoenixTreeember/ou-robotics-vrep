{
 "cells": [
  {
   "cell_type": "code",
   "execution_count": null,
   "metadata": {},
   "outputs": [],
   "source": [
    "class PioneerP3DX:\n",
    "\n",
    "    def __init__(self, api: VRep):\n",
    "        self._api = api\n",
    "        self._left_motor = api.joint.with_velocity_control(\"Pioneer_p3dx_leftMotor\")\n",
    "        self._right_motor = api.joint.with_velocity_control(\"Pioneer_p3dx_rightMotor\")\n",
    "        self._left_sensor = api.sensor.proximity(\"Pioneer_p3dx_ultrasonicSensor3\")\n",
    "        self._right_sensor = api.sensor.proximity(\"Pioneer_p3dx_ultrasonicSensor6\")\n",
    "\n",
    "    def rotate_right(self, speed=2.0):\n",
    "        self._set_two_motor(speed, -speed)\n",
    "\n",
    "    def rotate_left(self, speed=2.0):\n",
    "        self._set_two_motor(-speed, speed)\n",
    "\n",
    "    def move_forward(self, speed=2.0):\n",
    "        self._set_two_motor(speed, speed)\n",
    "\n",
    "    def move_backward(self, speed=2.0):\n",
    "        self._set_two_motor(-speed, -speed)\n",
    "\n",
    "    def _set_two_motor(self, left: float, right: float):\n",
    "        self._left_motor.set_target_velocity(left)\n",
    "        self._right_motor.set_target_velocity(right)\n",
    "\n",
    "    def right_length(self):\n",
    "        return self._right_sensor.read()[1].distance()\n",
    "\n",
    "    def left_length(self):\n",
    "        return self._left_sensor.read()[1].distance()"
   ]
  },
  {
   "cell_type": "raw",
   "metadata": {},
   "source": [
    "from pyrep import VRep\n",
    "from pyrep.vrep import vrep as vrep\n",
    "vrep.simxFinish(-1)\n",
    "\n",
    "clientID=vrep.simxStart('127.0.0.1',19997,True,True,5000,5)\n",
    "print(clientID)\n",
    "#Works - relative to V-REP executable location, absolute path\n",
    "#vrep.simxLoadScene(clientID,'/Applications/V-REP_PRO_EDU_V3_4_0_Mac/scenes/collisionDetectionDemo.ttt',0x00,vrep.simx_opmode_blocking)\n",
    "#Works - relative to remote API client location, absolute path \n",
    "#vrep.simxLoadScene(clientID,'/Users/ajh59/Pioneer.ttt',0xFF,vrep.simx_opmode_blocking)\n",
    "#Works relative to remote API client location, relative path\n",
    "vrep.simxLoadScene(clientID,'./Pioneer.ttt',0xFF,vrep.simx_opmode_blocking)\n"
   ]
  },
  {
   "cell_type": "raw",
   "metadata": {},
   "source": [
    "#vrep.simxFinish(-1)\n",
    "steps=10\n",
    "with VRep.connect(\"127.0.0.1\", 19997) as api:\n",
    "    r = PioneerP3DX(api)\n",
    "    while steps:\n",
    "        rl = r.right_length()\n",
    "        ll = r.left_length()\n",
    "        if rl > 0.01 and rl < 10:\n",
    "            r.rotate_left()\n",
    "        elif ll > 0.01 and ll < 10:\n",
    "            r.rotate_right()\n",
    "        else:\n",
    "            r.move_forward()\n",
    "        time.sleep(0.1)\n",
    "        steps=steps-1"
   ]
  }
 ],
 "metadata": {
  "kernelspec": {
   "display_name": "Python 3",
   "language": "python",
   "name": "python3"
  },
  "language_info": {
   "codemirror_mode": {
    "name": "ipython",
    "version": 3
   },
   "file_extension": ".py",
   "mimetype": "text/x-python",
   "name": "python",
   "nbconvert_exporter": "python",
   "pygments_lexer": "ipython3",
   "version": "3.6.1"
  }
 },
 "nbformat": 4,
 "nbformat_minor": 2
}
