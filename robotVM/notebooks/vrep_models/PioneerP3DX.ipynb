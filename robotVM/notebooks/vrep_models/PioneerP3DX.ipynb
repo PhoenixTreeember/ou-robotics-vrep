{
 "cells": [
  {
   "cell_type": "code",
   "execution_count": null,
   "metadata": {},
   "outputs": [],
   "source": [
    "orientation_axis_x = 0\n",
    "orientation_axis_y = 1\n",
    "orientation_axis_z = 2"
   ]
  },
  {
   "cell_type": "code",
   "execution_count": null,
   "metadata": {},
   "outputs": [],
   "source": [
    "from pyrep.vrep.vrep import simxGetObjectOrientation, simxGetObjectHandle, simxGetFloatSignal\n",
    "from pyrep.vrep import vrep as v\n",
    "\n",
    "import math"
   ]
  },
  {
   "cell_type": "code",
   "execution_count": null,
   "metadata": {},
   "outputs": [],
   "source": [
    "rclass='PioneerP3DX_base'\n",
    "print('Loading class: {}'.format(rclass))\n",
    "class PioneerP3DX_base:\n",
    "\n",
    "    def __init__(self, api: VRep):\n",
    "        self._api = api\n",
    "        self._left_motor = api.joint.with_velocity_control(\"Pioneer_p3dx_leftMotor\")\n",
    "        self._right_motor = api.joint.with_velocity_control(\"Pioneer_p3dx_rightMotor\")\n",
    "        self._sensor_ultrasonic_left = api.sensor.proximity(\"Pioneer_p3dx_ultrasonicSensor3\")\n",
    "        self._sensor_ultrasonic_right = api.sensor.proximity(\"Pioneer_p3dx_ultrasonicSensor6\")\n",
    "       \n",
    "        res, self._handle = simxGetObjectHandle(self.id, 'Pioneer_p3dx', vrep.simx_opmode_oneshot_wait)\n",
    "\n",
    "    def get_orientation(self):\n",
    "        #http://www.coppeliarobotics.com/helpFiles/en/remoteApiFunctions.htm#simxGetObjectOrientation\n",
    "        #Returns a value between +/-pi\n",
    "        return simxGetObjectOrientation(self.id, self._handle, -1, v.simx_opmode_streaming)[1]\n",
    "\n",
    "        \n",
    "print('This is a base class for the {} model\\n'.format(eval(rclass).__name__ ))"
   ]
  },
  {
   "cell_type": "code",
   "execution_count": null,
   "metadata": {},
   "outputs": [],
   "source": [
    "rclass='PioneerP3DX'\n",
    "print('Loading class: {}'.format(rclass))\n",
    "class PioneerP3DX(PioneerP3DX_base):\n",
    "\n",
    "    def __init__(self, api: VRep):\n",
    "        self._api = api\n",
    "        self.id = api._id\n",
    "        \n",
    "        #Inherit init settings from parent class\n",
    "        super(PioneerP3DX, self).__init__(api)\n",
    "   \n",
    "\n",
    "    def getvalleft(self):\n",
    "        return simxGetFloatSignal(self.id,'leftEncoder',v.simx_opmode_streaming)#simx_opmode_streaming, simx_opmode_buffer)\n",
    "\n",
    "    def getvalright(self):\n",
    "        return simxGetFloatSignal(self.id,'rightEncoder',v.simx_opmode_streaming)#simx_opmode_streaming, simx_opmode_buffer)\n",
    "\n",
    "    def get_orientation_degrees(self,axis=orientation_axis_z):\n",
    "        radians = self.get_orientation()\n",
    "        #Provide an option to return orientation in degrees about each axis\n",
    "        return [math.degrees(r) for r in radians] if axis==-1 else math.degrees(radians[axis])\n",
    "\n",
    "    def set_two_motor(self, left: float, right: float):\n",
    "        self._left_motor.set_target_velocity(left)\n",
    "        self._right_motor.set_target_velocity(right)\n",
    "\n",
    "    def rotate_right(self, speed=2.0):\n",
    "        self.set_two_motor(speed, -speed)\n",
    "\n",
    "    def rotate_left(self, speed=2.0):\n",
    "        self.set_two_motor(-speed, speed)\n",
    "\n",
    "    def move_forward(self, speed=2.0):\n",
    "        self.set_two_motor(speed, speed)\n",
    "\n",
    "    def move_backward(self, speed=2.0):\n",
    "        self.set_two_motor(-speed, -speed)\n",
    "    \n",
    "    def ultrasonic_right_length(self):\n",
    "        return self._sensor_ultrasonic_right.read()[1].distance()\n",
    "\n",
    "    def ultrasonic_left_length(self):\n",
    "        return self._sensor_ultrasonic_left.read()[1].distance()\n",
    "\n",
    "methods = [method for method in dir(eval(rclass)) if not method.startswith('_')]\n",
    "print('Methods available in {}:\\n\\t{}\\n'.format(eval(rclass).__name__ , '\\n\\t'.join(methods)))"
   ]
  },
  {
   "cell_type": "code",
   "execution_count": null,
   "metadata": {},
   "outputs": [],
   "source": [
    "rclass='PioneerP3DXL'\n",
    "print('Loading class: {}'.format(rclass))\n",
    "#https://github.com/Troxid/vrep-api-python/blob/master/examples/line_follower_pioneer.py\n",
    "class PioneerP3DXL(PioneerP3DX_base):\n",
    "\n",
    "    def __init__(self, api: VRep):\n",
    "        self._api = api\n",
    "        self.id = api._id\n",
    "        \n",
    "        super(PioneerP3DXL, self).__init__(api)\n",
    "        \n",
    "        self._sensor_rgb_left = api.sensor.vision(\"LeftRGBSensor\")  # type: VisionSensor\n",
    "        self._sensor_rgb_right = api.sensor.vision(\"RightRGBSensor\")  # type: VisionSensor\n",
    "\n",
    "    \n",
    "    def set_two_motor(self, left: float, right: float):\n",
    "        self._left_motor.set_target_velocity(left)\n",
    "        self._right_motor.set_target_velocity(right)\n",
    "\n",
    "    def rotate_right(self, speed=2.0):\n",
    "        self.set_two_motor(speed, -speed)\n",
    "\n",
    "    def rotate_left(self, speed=2.0):\n",
    "        self.set_two_motor(-speed, speed)\n",
    "\n",
    "    def move_forward(self, speed=2.0):\n",
    "        self.set_two_motor(speed, speed)\n",
    "\n",
    "    def move_backward(self, speed=2.0):\n",
    "        self.set_two_motor(-speed, -speed)\n",
    "\n",
    "    def color_right(self) -> int:\n",
    "        image = self._sensor_rgb_right.raw_image(is_grey_scale=True)  # type: List[int]\n",
    "        average = sum(image) / len(image)\n",
    "        return average\n",
    "\n",
    "    def color_left(self) -> int:\n",
    "        image = self._sensor_rgb_left.raw_image(is_grey_scale=True)  # type: List[int]\n",
    "        average = sum(image) / len(image)\n",
    "        return average\n",
    "    \n",
    "    def ultrasonic_right_length(self):\n",
    "        return self._sensor_ultrasonic_right.read()[1].distance()\n",
    "\n",
    "    def ultrasonic_left_length(self):\n",
    "        return self._sensor_ultrasonic_left.read()[1].distance()\n",
    "\n",
    "\n",
    "methods = [method for method in dir(eval(rclass)) if not method.startswith('_')]\n",
    "print('Methods available in {}:\\n\\t{}\\n'.format(eval(rclass).__name__ , '\\n\\t'.join(methods)))"
   ]
  },
  {
   "cell_type": "raw",
   "metadata": {},
   "source": [
    "from pyrep import VRep\n",
    "from pyrep.vrep import vrep as vrep\n",
    "vrep.simxFinish(-1)\n",
    "\n",
    "clientID=vrep.simxStart('127.0.0.1',19997,True,True,5000,5)\n",
    "print(clientID)\n",
    "#Works - relative to V-REP executable location, absolute path\n",
    "#vrep.simxLoadScene(clientID,'/Applications/V-REP_PRO_EDU_V3_4_0_Mac/scenes/collisionDetectionDemo.ttt',0x00,vrep.simx_opmode_blocking)\n",
    "#Works - relative to remote API client location, absolute path \n",
    "#vrep.simxLoadScene(clientID,'/Users/ajh59/Pioneer.ttt',0xFF,vrep.simx_opmode_blocking)\n",
    "#Works relative to remote API client location, relative path\n",
    "vrep.simxLoadScene(clientID,'./Pioneer.ttt',0xFF,vrep.simx_opmode_blocking)\n"
   ]
  },
  {
   "cell_type": "raw",
   "metadata": {},
   "source": [
    "#vrep.simxFinish(-1)\n",
    "steps=10\n",
    "with VRep.connect(\"127.0.0.1\", 19997) as api:\n",
    "    r = PioneerP3DX(api)\n",
    "    while steps:\n",
    "        rl = r.right_ultrasonic_length()\n",
    "        ll = r.left_ultrasonic_length()\n",
    "        if rl > 0.01 and rl < 10:\n",
    "            r.rotate_left()\n",
    "        elif ll > 0.01 and ll < 10:\n",
    "            r.rotate_right()\n",
    "        else:\n",
    "            r.move_forward()\n",
    "        time.sleep(0.1)\n",
    "        steps=steps-1"
   ]
  },
  {
   "cell_type": "markdown",
   "metadata": {},
   "source": [
    "## Widget Displays"
   ]
  },
  {
   "cell_type": "code",
   "execution_count": 2,
   "metadata": {},
   "outputs": [
    {
     "name": "stdout",
     "output_type": "stream",
     "text": [
      "The following text widgets are available for display: sensorText1, sensorText2\n"
     ]
    }
   ],
   "source": [
    "from IPython.display import display\n",
    "import ipywidgets as widgets\n",
    "\n",
    "sensorText1 = widgets.Text(value='', \n",
    "                          disabled=True, \n",
    "                          description='')\n",
    "\n",
    "sensorText2 = widgets.Text(value='', \n",
    "                             disabled=True, \n",
    "                             description='')\n",
    "\n",
    "print(\"The following text widgets are available for display: sensorText1, sensorText2\")"
   ]
  },
  {
   "cell_type": "code",
   "execution_count": null,
   "metadata": {},
   "outputs": [],
   "source": []
  }
 ],
 "metadata": {
  "kernelspec": {
   "display_name": "Python 3",
   "language": "python",
   "name": "python3"
  },
  "language_info": {
   "codemirror_mode": {
    "name": "ipython",
    "version": 3
   },
   "file_extension": ".py",
   "mimetype": "text/x-python",
   "name": "python",
   "nbconvert_exporter": "python",
   "pygments_lexer": "ipython3",
   "version": "3.6.1"
  }
 },
 "nbformat": 4,
 "nbformat_minor": 2
}
