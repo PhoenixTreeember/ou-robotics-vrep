{
 "cells": [
  {
   "cell_type": "code",
   "execution_count": 3,
   "metadata": {},
   "outputs": [],
   "source": [
    "from pyrep.vrep.vrep import simxGetFloatSignal\n",
    "from pyrep.vrep import vrep as v\n",
    "\n",
    "class lineFollowerBot:\n",
    "\n",
    "    def __init__(self, api: VRep):\n",
    "        self._api = api\n",
    "        self._left_motor = api.joint.with_velocity_control(\"DynamicLeftJoint\")\n",
    "        self._right_motor = api.joint.with_velocity_control(\"DynamicRightJoint\")\n",
    "        self._left_sensor = api.sensor.vision(\"LeftSensor\")\n",
    "        self._right_sensor = api.sensor.vision(\"RightSensor\")\n",
    "        self.id = api._id\n",
    "    \n",
    "    def getval(self):\n",
    "        return simxGetFloatSignal(self.id,'leftEncoder',v.simx_opmode_streaming)#simx_opmode_streaming, simx_opmode_buffer)\n",
    "\n",
    "    def getrots(self):\n",
    "        return simxGetFloatSignal(self.id,'leftEncoder_rots',v.simx_opmode_streaming)#simx_opmode_buffer)\n",
    "\n",
    "    def stop(self):\n",
    "        self._set_two_motor(0, 0)\n",
    "        \n",
    "    def fwd_right(self, speed=20.0):\n",
    "        self._set_two_motor(speed, speed/2)\n",
    "\n",
    "    def fwd_left(self, speed=20.0):\n",
    "        self._set_two_motor(speed/2, speed)\n",
    "\n",
    "    def move_forward(self, speed=20.0):\n",
    "        self._set_two_motor(speed, speed)\n",
    "\n",
    "    def move_backward(self, speed=20.0):\n",
    "        self._set_two_motor(-speed, -speed)\n",
    "\n",
    "    def _set_two_motor(self, left: float, right: float):\n",
    "        self._left_motor.set_target_velocity(left)\n",
    "        self._right_motor.set_target_velocity(right)\n",
    "    \n",
    "    def right_line(self):\n",
    "        return self._left_sensor.read()[0]\n",
    "    \n",
    "    def left_line(self):\n",
    "        return self._left_sensor.read()[0]\n",
    "\n",
    "    def position_left_joint(self):\n",
    "        return self._left_motor.get_position(), "
   ]
  },
  {
   "cell_type": "raw",
   "metadata": {},
   "source": [
    "with VRep.connect(\"127.0.0.1\", 19997) as api:\n",
    "    r = lineFollower(api)\n",
    "    while True:\n",
    "        if r.right_line():\n",
    "            r.fwd_left()\n",
    "        if r.left_line():\n",
    "            r.fwd_right()   \n",
    "        time.sleep(0.1)\n",
    "        print(r.right_line(), r.left_line())"
   ]
  }
 ],
 "metadata": {
  "kernelspec": {
   "display_name": "Python 3",
   "language": "python",
   "name": "python3"
  },
  "language_info": {
   "codemirror_mode": {
    "name": "ipython",
    "version": 3
   },
   "file_extension": ".py",
   "mimetype": "text/x-python",
   "name": "python",
   "nbconvert_exporter": "python",
   "pygments_lexer": "ipython3",
   "version": "3.6.1"
  }
 },
 "nbformat": 4,
 "nbformat_minor": 2
}
