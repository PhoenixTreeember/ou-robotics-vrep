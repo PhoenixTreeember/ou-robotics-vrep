{
 "cells": [
  {
   "cell_type": "markdown",
   "metadata": {},
   "source": [
    "# Loading Scenes\n",
    "\n",
    "\n",
    "Thos notebook contains routines for loading scenes into the V-REP simulator from a Jupyter notebook. \n",
    "\n",
    "The notebook can be run from another notebook using the `%run` magic with the path to this notebook.\n",
    "\n",
    "*You should not need to change anything in this notebook. In fact, you shouldn't need to look at it...*"
   ]
  },
  {
   "cell_type": "code",
   "execution_count": 3,
   "metadata": {},
   "outputs": [],
   "source": [
    "%run 'Set-up.ipynb'"
   ]
  },
  {
   "cell_type": "code",
   "execution_count": null,
   "metadata": {},
   "outputs": [],
   "source": [
    "from pyrep import VRep\n",
    "from pyrep.vrep import vrep as vrep\n",
    "\n",
    "def loadSceneRelativeToClient(path='../scenes/Pioneer.ttt',\n",
    "                              ip='127.0.0.1',\n",
    "                              port=19997,\n",
    "                              waitUntilConnected=True,\n",
    "                              doNotReconnectOnceDisconnected=True,\n",
    "                              timeOutInMs=5000,\n",
    "                              commThreadCycleInMs=5):\n",
    "    vrep.simxFinish(-1)\n",
    "    clientID=vrep.simxStart(ip,port,waitUntilConnected,doNotReconnectOnceDisconnected,timeOutInMs,commThreadCycleInMs)\n",
    "    #Works - relative to V-REP executable location, absolute path\n",
    "    #vrep.simxLoadScene(clientID,'/Applications/V-REP_PRO_EDU_V3_4_0_Mac/scenes/collisionDetectionDemo.ttt',0x00,vrep.simx_opmode_blocking)\n",
    "    #Works - relative to remote API client location, absolute path \n",
    "    #vrep.simxLoadScene(clientID,'/Users/ajh59/Pioneer.ttt',0xFF,vrep.simx_opmode_blocking)\n",
    "    #Works relative to remote API client location, relative path\n",
    "    vrep.simxLoadScene(clientID,path,0xFF,vrep.simx_opmode_blocking)\n",
    "    vrep.simxFinish(-1)\n"
   ]
  }
 ],
 "metadata": {
  "kernelspec": {
   "display_name": "Python 3",
   "language": "python",
   "name": "python3"
  },
  "language_info": {
   "codemirror_mode": {
    "name": "ipython",
    "version": 3
   },
   "file_extension": ".py",
   "mimetype": "text/x-python",
   "name": "python",
   "nbconvert_exporter": "python",
   "pygments_lexer": "ipython3",
   "version": "3.6.1"
  }
 },
 "nbformat": 4,
 "nbformat_minor": 2
}
