{
 "cells": [
  {
   "cell_type": "markdown",
   "metadata": {},
   "source": [
    "## # Traverse a Square - Part 4 - Using Odometry and Orientation Data\n",
    "\n",
    "two things to track - orientation and distance turned by each wheel for side transit"
   ]
  },
  {
   "cell_type": "code",
   "execution_count": null,
   "metadata": {},
   "outputs": [],
   "source": [
    "%run 'Set-up.ipynb'\n",
    "%run 'Loading scenes.ipynb'\n",
    "%run 'vrep_models/PioneerP3DX.ipynb'"
   ]
  },
  {
   "cell_type": "code",
   "execution_count": null,
   "metadata": {},
   "outputs": [],
   "source": [
    "%%vrepsim '../scenes/OU_Pioneer.ttt' PioneerP3DX\n",
    "\n",
    "# Use the time library to set a wait duration\n",
    "import time\n",
    "\n",
    "#Tell the robot to move forward by setting both motors to speed 1\n",
    "robot.move_forward(1)\n",
    "print(robot.getvalleft(), robot.getvalright())\n",
    "#Wait for two seconds\n",
    "time.sleep(2)\n",
    "print(robot.getvalleft(), robot.getvalright())\n",
    "robot.rotate_left()\n",
    "time.sleep(2)\n",
    "print(robot.getvalleft(), robot.getvalright())\n",
    "#At the end of the programme the simulation stops\n",
    "#The robot returns to its original location"
   ]
  },
  {
   "cell_type": "code",
   "execution_count": null,
   "metadata": {},
   "outputs": [],
   "source": [
    "%%vrepsim '../scenes/OU_Pioneer.ttt' PioneerP3DX\n",
    "\n",
    "\n",
    "get_orientation_degrees"
   ]
  },
  {
   "cell_type": "code",
   "execution_count": null,
   "metadata": {},
   "outputs": [],
   "source": [
    "#need to add the odometry/rotation count child script to the robot model"
   ]
  }
 ],
 "metadata": {
  "kernelspec": {
   "display_name": "Python 3",
   "language": "python",
   "name": "python3"
  },
  "language_info": {
   "codemirror_mode": {
    "name": "ipython",
    "version": 3
   },
   "file_extension": ".py",
   "mimetype": "text/x-python",
   "name": "python",
   "nbconvert_exporter": "python",
   "pygments_lexer": "ipython3",
   "version": "3.6.1"
  }
 },
 "nbformat": 4,
 "nbformat_minor": 2
}
